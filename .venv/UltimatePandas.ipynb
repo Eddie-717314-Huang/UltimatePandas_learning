{
 "cells": [
  {
   "cell_type": "markdown",
   "metadata": {},
   "source": [
    "# Welcome to the Ultimate Pandas introduction Tutorial\n",
    "<img src=\"/Users/eddie/vscode/Python/easy-pandas-python-logo-png.png\" style=\"width: 300px;\"/>"
   ]
  },
  {
   "cell_type": "code",
   "execution_count": 1,
   "metadata": {},
   "outputs": [],
   "source": [
    "import pandas as pd\n",
    "import numpy as np"
   ]
  },
  {
   "cell_type": "markdown",
   "metadata": {},
   "source": [
    "### Series = index + list of data + dtype"
   ]
  },
  {
   "cell_type": "code",
   "execution_count": 4,
   "metadata": {},
   "outputs": [],
   "source": [
    "mydata = ['boat','car', 'bike', 'truck']\n",
    "\n",
    "myseries1 = pd.Series(mydata)"
   ]
  },
  {
   "cell_type": "code",
   "execution_count": 7,
   "metadata": {},
   "outputs": [
    {
     "name": "stdout",
     "output_type": "stream",
     "text": [
      "0     boat\n",
      "1      car\n",
      "2     bike\n",
      "3    truck\n",
      "dtype: object\n"
     ]
    }
   ],
   "source": [
    "print(myseries1)"
   ]
  },
  {
   "cell_type": "code",
   "execution_count": 13,
   "metadata": {},
   "outputs": [
    {
     "name": "stdout",
     "output_type": "stream",
     "text": [
      "0      1\n",
      "1     55\n",
      "2     99\n",
      "3    666\n",
      "dtype: int64\n"
     ]
    }
   ],
   "source": [
    "mydata = [1, 55, 99, 666]\n",
    "myseries2 = pd.Series(mydata)\n",
    "print(myseries2)"
   ]
  },
  {
   "cell_type": "markdown",
   "metadata": {},
   "source": [
    "### DataFrame = index + list of data + Columns"
   ]
  },
  {
   "cell_type": "code",
   "execution_count": 14,
   "metadata": {},
   "outputs": [
    {
     "data": {
      "text/html": [
       "<div>\n",
       "<style scoped>\n",
       "    .dataframe tbody tr th:only-of-type {\n",
       "        vertical-align: middle;\n",
       "    }\n",
       "\n",
       "    .dataframe tbody tr th {\n",
       "        vertical-align: top;\n",
       "    }\n",
       "\n",
       "    .dataframe thead th {\n",
       "        text-align: right;\n",
       "    }\n",
       "</style>\n",
       "<table border=\"1\" class=\"dataframe\">\n",
       "  <thead>\n",
       "    <tr style=\"text-align: right;\">\n",
       "      <th></th>\n",
       "      <th>0</th>\n",
       "      <th>1</th>\n",
       "    </tr>\n",
       "  </thead>\n",
       "  <tbody>\n",
       "    <tr>\n",
       "      <th>0</th>\n",
       "      <td>boat</td>\n",
       "      <td>1</td>\n",
       "    </tr>\n",
       "    <tr>\n",
       "      <th>1</th>\n",
       "      <td>car</td>\n",
       "      <td>55</td>\n",
       "    </tr>\n",
       "    <tr>\n",
       "      <th>2</th>\n",
       "      <td>bike</td>\n",
       "      <td>99</td>\n",
       "    </tr>\n",
       "    <tr>\n",
       "      <th>3</th>\n",
       "      <td>truck</td>\n",
       "      <td>666</td>\n",
       "    </tr>\n",
       "  </tbody>\n",
       "</table>\n",
       "</div>"
      ],
      "text/plain": [
       "       0    1\n",
       "0   boat    1\n",
       "1    car   55\n",
       "2   bike   99\n",
       "3  truck  666"
      ]
     },
     "execution_count": 14,
     "metadata": {},
     "output_type": "execute_result"
    }
   ],
   "source": [
    "mydfdata = [('boat',1),('car',55),('bike',99),('truck',666)]\n",
    "\n",
    "mydf = pd.DataFrame(mydfdata)\n",
    "\n",
    "mydf"
   ]
  },
  {
   "cell_type": "markdown",
   "metadata": {},
   "source": [
    "### Change the columns names!!"
   ]
  },
  {
   "cell_type": "code",
   "execution_count": 15,
   "metadata": {},
   "outputs": [
    {
     "data": {
      "text/html": [
       "<div>\n",
       "<style scoped>\n",
       "    .dataframe tbody tr th:only-of-type {\n",
       "        vertical-align: middle;\n",
       "    }\n",
       "\n",
       "    .dataframe tbody tr th {\n",
       "        vertical-align: top;\n",
       "    }\n",
       "\n",
       "    .dataframe thead th {\n",
       "        text-align: right;\n",
       "    }\n",
       "</style>\n",
       "<table border=\"1\" class=\"dataframe\">\n",
       "  <thead>\n",
       "    <tr style=\"text-align: right;\">\n",
       "      <th></th>\n",
       "      <th>thing</th>\n",
       "      <th>count</th>\n",
       "    </tr>\n",
       "  </thead>\n",
       "  <tbody>\n",
       "    <tr>\n",
       "      <th>0</th>\n",
       "      <td>boat</td>\n",
       "      <td>1</td>\n",
       "    </tr>\n",
       "    <tr>\n",
       "      <th>1</th>\n",
       "      <td>car</td>\n",
       "      <td>55</td>\n",
       "    </tr>\n",
       "    <tr>\n",
       "      <th>2</th>\n",
       "      <td>bike</td>\n",
       "      <td>99</td>\n",
       "    </tr>\n",
       "    <tr>\n",
       "      <th>3</th>\n",
       "      <td>truck</td>\n",
       "      <td>666</td>\n",
       "    </tr>\n",
       "  </tbody>\n",
       "</table>\n",
       "</div>"
      ],
      "text/plain": [
       "   thing  count\n",
       "0   boat      1\n",
       "1    car     55\n",
       "2   bike     99\n",
       "3  truck    666"
      ]
     },
     "execution_count": 15,
     "metadata": {},
     "output_type": "execute_result"
    }
   ],
   "source": [
    "mydf = pd.DataFrame(mydfdata, columns =['thing', 'count'])\n",
    "\n",
    "mydf"
   ]
  },
  {
   "cell_type": "code",
   "execution_count": 18,
   "metadata": {},
   "outputs": [
    {
     "name": "stdout",
     "output_type": "stream",
     "text": [
      "<class 'pandas.core.series.Series'>\n"
     ]
    },
    {
     "data": {
      "text/plain": [
       "0     boat\n",
       "1      car\n",
       "2     bike\n",
       "3    truck\n",
       "Name: thing, dtype: object"
      ]
     },
     "execution_count": 18,
     "metadata": {},
     "output_type": "execute_result"
    }
   ],
   "source": [
    "print(type(mydf['thing']))\n",
    "mydf['thing']"
   ]
  },
  {
   "cell_type": "markdown",
   "metadata": {},
   "source": [
    "### What if we wanna see all the dtype of the different columns in the dataframe??"
   ]
  },
  {
   "cell_type": "code",
   "execution_count": 19,
   "metadata": {},
   "outputs": [
    {
     "data": {
      "text/plain": [
       "thing    object\n",
       "count     int64\n",
       "dtype: object"
      ]
     },
     "execution_count": 19,
     "metadata": {},
     "output_type": "execute_result"
    }
   ],
   "source": [
    "mydf.dtypes"
   ]
  },
  {
   "cell_type": "markdown",
   "metadata": {},
   "source": [
    "# Reading in Data"
   ]
  },
  {
   "cell_type": "code",
   "execution_count": 39,
   "metadata": {},
   "outputs": [],
   "source": [
    "df = pd.read_csv('/Users/eddie/vscode/Python/MrBeast_youtube_stats.csv')"
   ]
  },
  {
   "cell_type": "markdown",
   "metadata": {},
   "source": [
    "# Inspect the Data"
   ]
  },
  {
   "cell_type": "code",
   "execution_count": 27,
   "metadata": {},
   "outputs": [
    {
     "data": {
      "text/html": [
       "<div>\n",
       "<style scoped>\n",
       "    .dataframe tbody tr th:only-of-type {\n",
       "        vertical-align: middle;\n",
       "    }\n",
       "\n",
       "    .dataframe tbody tr th {\n",
       "        vertical-align: top;\n",
       "    }\n",
       "\n",
       "    .dataframe thead th {\n",
       "        text-align: right;\n",
       "    }\n",
       "</style>\n",
       "<table border=\"1\" class=\"dataframe\">\n",
       "  <thead>\n",
       "    <tr style=\"text-align: right;\">\n",
       "      <th></th>\n",
       "      <th>id</th>\n",
       "      <th>title</th>\n",
       "      <th>description</th>\n",
       "      <th>publishTime</th>\n",
       "      <th>kind_stats</th>\n",
       "      <th>duration_seconds</th>\n",
       "      <th>viewCount</th>\n",
       "      <th>likeCount</th>\n",
       "      <th>commentCount</th>\n",
       "      <th>thumbnails.default.url</th>\n",
       "      <th>...</th>\n",
       "      <th>thumbnails.high.width</th>\n",
       "      <th>thumbnails.high.height</th>\n",
       "      <th>contentDetails.duration</th>\n",
       "      <th>contentDetails.dimension</th>\n",
       "      <th>topicDetails.topicCategories</th>\n",
       "      <th>snippet.defaultLanguage</th>\n",
       "      <th>localizations.en.title</th>\n",
       "      <th>localizations.en.description</th>\n",
       "      <th>snippet.tags</th>\n",
       "      <th>contentDetails.contentRating.ytRating</th>\n",
       "    </tr>\n",
       "  </thead>\n",
       "  <tbody>\n",
       "    <tr>\n",
       "      <th>0</th>\n",
       "      <td>TQHEJj68Jew</td>\n",
       "      <td>I Got Hunted By A Real Bounty Hunter</td>\n",
       "      <td>Sign up for Current w/ my Creator Code \"BEAST\"...</td>\n",
       "      <td>2021-04-24 20:00:00+00:00</td>\n",
       "      <td>youtube#video</td>\n",
       "      <td>861</td>\n",
       "      <td>84717282.0</td>\n",
       "      <td>2876493.0</td>\n",
       "      <td>128922.0</td>\n",
       "      <td>https://i.ytimg.com/vi/TQHEJj68Jew/default.jpg</td>\n",
       "      <td>...</td>\n",
       "      <td>480.0</td>\n",
       "      <td>360.0</td>\n",
       "      <td>PT14M21S</td>\n",
       "      <td>2d</td>\n",
       "      <td>['https://en.wikipedia.org/wiki/Lifestyle_(soc...</td>\n",
       "      <td>NaN</td>\n",
       "      <td>NaN</td>\n",
       "      <td>NaN</td>\n",
       "      <td>NaN</td>\n",
       "      <td>NaN</td>\n",
       "    </tr>\n",
       "    <tr>\n",
       "      <th>1</th>\n",
       "      <td>00NgUctWoLQ</td>\n",
       "      <td>Extreme $1,000,000 Hide And Seek</td>\n",
       "      <td>I didn't expect that to happen at the end I wa...</td>\n",
       "      <td>2021-12-18 21:00:00+00:00</td>\n",
       "      <td>youtube#video</td>\n",
       "      <td>729</td>\n",
       "      <td>32090178.0</td>\n",
       "      <td>2125183.0</td>\n",
       "      <td>73593.0</td>\n",
       "      <td>https://i.ytimg.com/vi/00NgUctWoLQ/default.jpg</td>\n",
       "      <td>...</td>\n",
       "      <td>480.0</td>\n",
       "      <td>360.0</td>\n",
       "      <td>PT12M9S</td>\n",
       "      <td>2d</td>\n",
       "      <td>['https://en.wikipedia.org/wiki/Lifestyle_(soc...</td>\n",
       "      <td>en</td>\n",
       "      <td>Extreme $1,000,000 Hide And Seek</td>\n",
       "      <td>I didn't expect that to happen at the end I wa...</td>\n",
       "      <td>NaN</td>\n",
       "      <td>NaN</td>\n",
       "    </tr>\n",
       "    <tr>\n",
       "      <th>2</th>\n",
       "      <td>NaN</td>\n",
       "      <td>MrBeast</td>\n",
       "      <td>Accomplishments - Raised $20000000 To Plant 20...</td>\n",
       "      <td>2012-02-20 00:43:50+00:00</td>\n",
       "      <td>NaN</td>\n",
       "      <td>0</td>\n",
       "      <td>NaN</td>\n",
       "      <td>NaN</td>\n",
       "      <td>NaN</td>\n",
       "      <td>https://yt3.ggpht.com/ytc/AKedOLTctGKJ32CdDLiS...</td>\n",
       "      <td>...</td>\n",
       "      <td>NaN</td>\n",
       "      <td>NaN</td>\n",
       "      <td>NaN</td>\n",
       "      <td>NaN</td>\n",
       "      <td>NaN</td>\n",
       "      <td>NaN</td>\n",
       "      <td>NaN</td>\n",
       "      <td>NaN</td>\n",
       "      <td>NaN</td>\n",
       "      <td>NaN</td>\n",
       "    </tr>\n",
       "    <tr>\n",
       "      <th>3</th>\n",
       "      <td>ayXxwJJId_c</td>\n",
       "      <td>I Bought The World&amp;#39;s Largest Mystery Box! ...</td>\n",
       "      <td>I cant believe I spent over $500000 on mystery...</td>\n",
       "      <td>2021-04-03 20:00:01+00:00</td>\n",
       "      <td>youtube#video</td>\n",
       "      <td>709</td>\n",
       "      <td>101745632.0</td>\n",
       "      <td>3110824.0</td>\n",
       "      <td>162796.0</td>\n",
       "      <td>https://i.ytimg.com/vi/ayXxwJJId_c/default.jpg</td>\n",
       "      <td>...</td>\n",
       "      <td>480.0</td>\n",
       "      <td>360.0</td>\n",
       "      <td>PT11M49S</td>\n",
       "      <td>2d</td>\n",
       "      <td>['https://en.wikipedia.org/wiki/Lifestyle_(soc...</td>\n",
       "      <td>NaN</td>\n",
       "      <td>NaN</td>\n",
       "      <td>NaN</td>\n",
       "      <td>NaN</td>\n",
       "      <td>NaN</td>\n",
       "    </tr>\n",
       "    <tr>\n",
       "      <th>4</th>\n",
       "      <td>cExLQ1o2pDw</td>\n",
       "      <td>First To Rob Bank Wins $100,000</td>\n",
       "      <td>I didnt think he would actually rob the bank.....</td>\n",
       "      <td>2021-09-26 20:00:06+00:00</td>\n",
       "      <td>youtube#video</td>\n",
       "      <td>482</td>\n",
       "      <td>50008942.0</td>\n",
       "      <td>2359606.0</td>\n",
       "      <td>120621.0</td>\n",
       "      <td>https://i.ytimg.com/vi/cExLQ1o2pDw/default.jpg</td>\n",
       "      <td>...</td>\n",
       "      <td>480.0</td>\n",
       "      <td>360.0</td>\n",
       "      <td>PT8M2S</td>\n",
       "      <td>2d</td>\n",
       "      <td>['https://en.wikipedia.org/wiki/Lifestyle_(soc...</td>\n",
       "      <td>NaN</td>\n",
       "      <td>NaN</td>\n",
       "      <td>NaN</td>\n",
       "      <td>NaN</td>\n",
       "      <td>NaN</td>\n",
       "    </tr>\n",
       "  </tbody>\n",
       "</table>\n",
       "<p>5 rows × 26 columns</p>\n",
       "</div>"
      ],
      "text/plain": [
       "            id                                              title  \\\n",
       "0  TQHEJj68Jew               I Got Hunted By A Real Bounty Hunter   \n",
       "1  00NgUctWoLQ                   Extreme $1,000,000 Hide And Seek   \n",
       "2          NaN                                            MrBeast   \n",
       "3  ayXxwJJId_c  I Bought The World&#39;s Largest Mystery Box! ...   \n",
       "4  cExLQ1o2pDw                    First To Rob Bank Wins $100,000   \n",
       "\n",
       "                                         description  \\\n",
       "0  Sign up for Current w/ my Creator Code \"BEAST\"...   \n",
       "1  I didn't expect that to happen at the end I wa...   \n",
       "2  Accomplishments - Raised $20000000 To Plant 20...   \n",
       "3  I cant believe I spent over $500000 on mystery...   \n",
       "4  I didnt think he would actually rob the bank.....   \n",
       "\n",
       "                 publishTime     kind_stats  duration_seconds    viewCount  \\\n",
       "0  2021-04-24 20:00:00+00:00  youtube#video               861   84717282.0   \n",
       "1  2021-12-18 21:00:00+00:00  youtube#video               729   32090178.0   \n",
       "2  2012-02-20 00:43:50+00:00            NaN                 0          NaN   \n",
       "3  2021-04-03 20:00:01+00:00  youtube#video               709  101745632.0   \n",
       "4  2021-09-26 20:00:06+00:00  youtube#video               482   50008942.0   \n",
       "\n",
       "   likeCount  commentCount                             thumbnails.default.url  \\\n",
       "0  2876493.0      128922.0     https://i.ytimg.com/vi/TQHEJj68Jew/default.jpg   \n",
       "1  2125183.0       73593.0     https://i.ytimg.com/vi/00NgUctWoLQ/default.jpg   \n",
       "2        NaN           NaN  https://yt3.ggpht.com/ytc/AKedOLTctGKJ32CdDLiS...   \n",
       "3  3110824.0      162796.0     https://i.ytimg.com/vi/ayXxwJJId_c/default.jpg   \n",
       "4  2359606.0      120621.0     https://i.ytimg.com/vi/cExLQ1o2pDw/default.jpg   \n",
       "\n",
       "   ...  thumbnails.high.width  thumbnails.high.height contentDetails.duration  \\\n",
       "0  ...                  480.0                   360.0                PT14M21S   \n",
       "1  ...                  480.0                   360.0                 PT12M9S   \n",
       "2  ...                    NaN                     NaN                     NaN   \n",
       "3  ...                  480.0                   360.0                PT11M49S   \n",
       "4  ...                  480.0                   360.0                  PT8M2S   \n",
       "\n",
       "   contentDetails.dimension  \\\n",
       "0                        2d   \n",
       "1                        2d   \n",
       "2                       NaN   \n",
       "3                        2d   \n",
       "4                        2d   \n",
       "\n",
       "                        topicDetails.topicCategories snippet.defaultLanguage  \\\n",
       "0  ['https://en.wikipedia.org/wiki/Lifestyle_(soc...                     NaN   \n",
       "1  ['https://en.wikipedia.org/wiki/Lifestyle_(soc...                      en   \n",
       "2                                                NaN                     NaN   \n",
       "3  ['https://en.wikipedia.org/wiki/Lifestyle_(soc...                     NaN   \n",
       "4  ['https://en.wikipedia.org/wiki/Lifestyle_(soc...                     NaN   \n",
       "\n",
       "             localizations.en.title  \\\n",
       "0                               NaN   \n",
       "1  Extreme $1,000,000 Hide And Seek   \n",
       "2                               NaN   \n",
       "3                               NaN   \n",
       "4                               NaN   \n",
       "\n",
       "                        localizations.en.description snippet.tags  \\\n",
       "0                                                NaN          NaN   \n",
       "1  I didn't expect that to happen at the end I wa...          NaN   \n",
       "2                                                NaN          NaN   \n",
       "3                                                NaN          NaN   \n",
       "4                                                NaN          NaN   \n",
       "\n",
       "  contentDetails.contentRating.ytRating  \n",
       "0                                   NaN  \n",
       "1                                   NaN  \n",
       "2                                   NaN  \n",
       "3                                   NaN  \n",
       "4                                   NaN  \n",
       "\n",
       "[5 rows x 26 columns]"
      ]
     },
     "execution_count": 27,
     "metadata": {},
     "output_type": "execute_result"
    }
   ],
   "source": [
    "# 看前五筆資料\n",
    "df.head()"
   ]
  },
  {
   "cell_type": "code",
   "execution_count": 26,
   "metadata": {},
   "outputs": [
    {
     "data": {
      "text/html": [
       "<div>\n",
       "<style scoped>\n",
       "    .dataframe tbody tr th:only-of-type {\n",
       "        vertical-align: middle;\n",
       "    }\n",
       "\n",
       "    .dataframe tbody tr th {\n",
       "        vertical-align: top;\n",
       "    }\n",
       "\n",
       "    .dataframe thead th {\n",
       "        text-align: right;\n",
       "    }\n",
       "</style>\n",
       "<table border=\"1\" class=\"dataframe\">\n",
       "  <thead>\n",
       "    <tr style=\"text-align: right;\">\n",
       "      <th></th>\n",
       "      <th>id</th>\n",
       "      <th>title</th>\n",
       "      <th>description</th>\n",
       "      <th>publishTime</th>\n",
       "      <th>kind_stats</th>\n",
       "      <th>duration_seconds</th>\n",
       "      <th>viewCount</th>\n",
       "      <th>likeCount</th>\n",
       "      <th>commentCount</th>\n",
       "      <th>thumbnails.default.url</th>\n",
       "      <th>...</th>\n",
       "      <th>thumbnails.high.width</th>\n",
       "      <th>thumbnails.high.height</th>\n",
       "      <th>contentDetails.duration</th>\n",
       "      <th>contentDetails.dimension</th>\n",
       "      <th>topicDetails.topicCategories</th>\n",
       "      <th>snippet.defaultLanguage</th>\n",
       "      <th>localizations.en.title</th>\n",
       "      <th>localizations.en.description</th>\n",
       "      <th>snippet.tags</th>\n",
       "      <th>contentDetails.contentRating.ytRating</th>\n",
       "    </tr>\n",
       "  </thead>\n",
       "  <tbody>\n",
       "    <tr>\n",
       "      <th>242</th>\n",
       "      <td>yeHjsYQ076A</td>\n",
       "      <td>Remember When COD Was Fun?</td>\n",
       "      <td>Yup, another very pointless video ▻ Subscribe?...</td>\n",
       "      <td>2015-04-26 21:26:36+00:00</td>\n",
       "      <td>youtube#video</td>\n",
       "      <td>216</td>\n",
       "      <td>16312.0</td>\n",
       "      <td>574.0</td>\n",
       "      <td>145.0</td>\n",
       "      <td>https://i.ytimg.com/vi/yeHjsYQ076A/default.jpg</td>\n",
       "      <td>...</td>\n",
       "      <td>480.0</td>\n",
       "      <td>360.0</td>\n",
       "      <td>PT3M36S</td>\n",
       "      <td>2d</td>\n",
       "      <td>['https://en.wikipedia.org/wiki/Action-adventu...</td>\n",
       "      <td>NaN</td>\n",
       "      <td>NaN</td>\n",
       "      <td>NaN</td>\n",
       "      <td>['How', 'much', 'money', 'does', 'make', 'blac...</td>\n",
       "      <td>NaN</td>\n",
       "    </tr>\n",
       "    <tr>\n",
       "      <th>243</th>\n",
       "      <td>X7doE4h6W64</td>\n",
       "      <td>Insane Gun Sync - 7 Hours To Make</td>\n",
       "      <td>Look at this - http://gyazo.com/8852509d2350db...</td>\n",
       "      <td>2015-06-21 12:22:34+00:00</td>\n",
       "      <td>youtube#video</td>\n",
       "      <td>134</td>\n",
       "      <td>15740.0</td>\n",
       "      <td>637.0</td>\n",
       "      <td>105.0</td>\n",
       "      <td>https://i.ytimg.com/vi/X7doE4h6W64/default.jpg</td>\n",
       "      <td>...</td>\n",
       "      <td>480.0</td>\n",
       "      <td>360.0</td>\n",
       "      <td>PT2M14S</td>\n",
       "      <td>2d</td>\n",
       "      <td>['https://en.wikipedia.org/wiki/Action-adventu...</td>\n",
       "      <td>NaN</td>\n",
       "      <td>NaN</td>\n",
       "      <td>NaN</td>\n",
       "      <td>['How', 'much', 'money', 'does', 'make', 'blac...</td>\n",
       "      <td>NaN</td>\n",
       "    </tr>\n",
       "    <tr>\n",
       "      <th>244</th>\n",
       "      <td>AIytwdufwW8</td>\n",
       "      <td>MY MESSAGE TO COD YOUTUBERS (Watch till end plz)</td>\n",
       "      <td>The beginning of the video is a little off top...</td>\n",
       "      <td>2015-05-29 20:07:48+00:00</td>\n",
       "      <td>youtube#video</td>\n",
       "      <td>292</td>\n",
       "      <td>18502.0</td>\n",
       "      <td>508.0</td>\n",
       "      <td>117.0</td>\n",
       "      <td>https://i.ytimg.com/vi/AIytwdufwW8/default.jpg</td>\n",
       "      <td>...</td>\n",
       "      <td>480.0</td>\n",
       "      <td>360.0</td>\n",
       "      <td>PT4M52S</td>\n",
       "      <td>2d</td>\n",
       "      <td>['https://en.wikipedia.org/wiki/Action-adventu...</td>\n",
       "      <td>NaN</td>\n",
       "      <td>NaN</td>\n",
       "      <td>NaN</td>\n",
       "      <td>['How', 'much', 'money', 'does', 'make', 'blac...</td>\n",
       "      <td>NaN</td>\n",
       "    </tr>\n",
       "    <tr>\n",
       "      <th>245</th>\n",
       "      <td>56OkH6ocYZU</td>\n",
       "      <td>L0114R - Biblical Creeper Post for Post @L0114R</td>\n",
       "      <td>His channel - https://www.youtube.com/user/the...</td>\n",
       "      <td>2015-05-15 16:48:54+00:00</td>\n",
       "      <td>youtube#video</td>\n",
       "      <td>109</td>\n",
       "      <td>16627.0</td>\n",
       "      <td>430.0</td>\n",
       "      <td>134.0</td>\n",
       "      <td>https://i.ytimg.com/vi/56OkH6ocYZU/default.jpg</td>\n",
       "      <td>...</td>\n",
       "      <td>480.0</td>\n",
       "      <td>360.0</td>\n",
       "      <td>PT1M49S</td>\n",
       "      <td>2d</td>\n",
       "      <td>['https://en.wikipedia.org/wiki/Action-adventu...</td>\n",
       "      <td>NaN</td>\n",
       "      <td>NaN</td>\n",
       "      <td>NaN</td>\n",
       "      <td>['How', 'much', 'money', 'does', 'make', 'blac...</td>\n",
       "      <td>NaN</td>\n",
       "    </tr>\n",
       "    <tr>\n",
       "      <th>246</th>\n",
       "      <td>zi7tZ-2PhLk</td>\n",
       "      <td>How Much Money Do You Make As An Uber Driver??...</td>\n",
       "      <td>In this video I talk about being an uber drive...</td>\n",
       "      <td>2015-05-31 18:31:25+00:00</td>\n",
       "      <td>youtube#video</td>\n",
       "      <td>304</td>\n",
       "      <td>18773.0</td>\n",
       "      <td>370.0</td>\n",
       "      <td>59.0</td>\n",
       "      <td>https://i.ytimg.com/vi/zi7tZ-2PhLk/default.jpg</td>\n",
       "      <td>...</td>\n",
       "      <td>480.0</td>\n",
       "      <td>360.0</td>\n",
       "      <td>PT5M4S</td>\n",
       "      <td>2d</td>\n",
       "      <td>['https://en.wikipedia.org/wiki/Action-adventu...</td>\n",
       "      <td>NaN</td>\n",
       "      <td>NaN</td>\n",
       "      <td>NaN</td>\n",
       "      <td>['How', 'much', 'money', 'does', 'make', 'blac...</td>\n",
       "      <td>NaN</td>\n",
       "    </tr>\n",
       "  </tbody>\n",
       "</table>\n",
       "<p>5 rows × 26 columns</p>\n",
       "</div>"
      ],
      "text/plain": [
       "              id                                              title  \\\n",
       "242  yeHjsYQ076A                         Remember When COD Was Fun?   \n",
       "243  X7doE4h6W64                  Insane Gun Sync - 7 Hours To Make   \n",
       "244  AIytwdufwW8   MY MESSAGE TO COD YOUTUBERS (Watch till end plz)   \n",
       "245  56OkH6ocYZU    L0114R - Biblical Creeper Post for Post @L0114R   \n",
       "246  zi7tZ-2PhLk  How Much Money Do You Make As An Uber Driver??...   \n",
       "\n",
       "                                           description  \\\n",
       "242  Yup, another very pointless video ▻ Subscribe?...   \n",
       "243  Look at this - http://gyazo.com/8852509d2350db...   \n",
       "244  The beginning of the video is a little off top...   \n",
       "245  His channel - https://www.youtube.com/user/the...   \n",
       "246  In this video I talk about being an uber drive...   \n",
       "\n",
       "                   publishTime     kind_stats  duration_seconds  viewCount  \\\n",
       "242  2015-04-26 21:26:36+00:00  youtube#video               216    16312.0   \n",
       "243  2015-06-21 12:22:34+00:00  youtube#video               134    15740.0   \n",
       "244  2015-05-29 20:07:48+00:00  youtube#video               292    18502.0   \n",
       "245  2015-05-15 16:48:54+00:00  youtube#video               109    16627.0   \n",
       "246  2015-05-31 18:31:25+00:00  youtube#video               304    18773.0   \n",
       "\n",
       "     likeCount  commentCount                          thumbnails.default.url  \\\n",
       "242      574.0         145.0  https://i.ytimg.com/vi/yeHjsYQ076A/default.jpg   \n",
       "243      637.0         105.0  https://i.ytimg.com/vi/X7doE4h6W64/default.jpg   \n",
       "244      508.0         117.0  https://i.ytimg.com/vi/AIytwdufwW8/default.jpg   \n",
       "245      430.0         134.0  https://i.ytimg.com/vi/56OkH6ocYZU/default.jpg   \n",
       "246      370.0          59.0  https://i.ytimg.com/vi/zi7tZ-2PhLk/default.jpg   \n",
       "\n",
       "     ...  thumbnails.high.width  thumbnails.high.height  \\\n",
       "242  ...                  480.0                   360.0   \n",
       "243  ...                  480.0                   360.0   \n",
       "244  ...                  480.0                   360.0   \n",
       "245  ...                  480.0                   360.0   \n",
       "246  ...                  480.0                   360.0   \n",
       "\n",
       "    contentDetails.duration  contentDetails.dimension  \\\n",
       "242                 PT3M36S                        2d   \n",
       "243                 PT2M14S                        2d   \n",
       "244                 PT4M52S                        2d   \n",
       "245                 PT1M49S                        2d   \n",
       "246                  PT5M4S                        2d   \n",
       "\n",
       "                          topicDetails.topicCategories  \\\n",
       "242  ['https://en.wikipedia.org/wiki/Action-adventu...   \n",
       "243  ['https://en.wikipedia.org/wiki/Action-adventu...   \n",
       "244  ['https://en.wikipedia.org/wiki/Action-adventu...   \n",
       "245  ['https://en.wikipedia.org/wiki/Action-adventu...   \n",
       "246  ['https://en.wikipedia.org/wiki/Action-adventu...   \n",
       "\n",
       "    snippet.defaultLanguage  localizations.en.title  \\\n",
       "242                     NaN                     NaN   \n",
       "243                     NaN                     NaN   \n",
       "244                     NaN                     NaN   \n",
       "245                     NaN                     NaN   \n",
       "246                     NaN                     NaN   \n",
       "\n",
       "     localizations.en.description  \\\n",
       "242                           NaN   \n",
       "243                           NaN   \n",
       "244                           NaN   \n",
       "245                           NaN   \n",
       "246                           NaN   \n",
       "\n",
       "                                          snippet.tags  \\\n",
       "242  ['How', 'much', 'money', 'does', 'make', 'blac...   \n",
       "243  ['How', 'much', 'money', 'does', 'make', 'blac...   \n",
       "244  ['How', 'much', 'money', 'does', 'make', 'blac...   \n",
       "245  ['How', 'much', 'money', 'does', 'make', 'blac...   \n",
       "246  ['How', 'much', 'money', 'does', 'make', 'blac...   \n",
       "\n",
       "    contentDetails.contentRating.ytRating  \n",
       "242                                   NaN  \n",
       "243                                   NaN  \n",
       "244                                   NaN  \n",
       "245                                   NaN  \n",
       "246                                   NaN  \n",
       "\n",
       "[5 rows x 26 columns]"
      ]
     },
     "execution_count": 26,
     "metadata": {},
     "output_type": "execute_result"
    }
   ],
   "source": [
    "# 看後五筆資料\n",
    "df.tail()"
   ]
  },
  {
   "cell_type": "code",
   "execution_count": 28,
   "metadata": {},
   "outputs": [
    {
     "data": {
      "text/plain": [
       "id                                        object\n",
       "title                                     object\n",
       "description                               object\n",
       "publishTime                               object\n",
       "kind_stats                                object\n",
       "duration_seconds                           int64\n",
       "viewCount                                float64\n",
       "likeCount                                float64\n",
       "commentCount                             float64\n",
       "thumbnails.default.url                    object\n",
       "thumbnails.default.width                 float64\n",
       "thumbnails.default.height                float64\n",
       "thumbnails.medium.url                     object\n",
       "thumbnails.medium.width                  float64\n",
       "thumbnails.medium.height                 float64\n",
       "thumbnails.high.url                       object\n",
       "thumbnails.high.width                    float64\n",
       "thumbnails.high.height                   float64\n",
       "contentDetails.duration                   object\n",
       "contentDetails.dimension                  object\n",
       "topicDetails.topicCategories              object\n",
       "snippet.defaultLanguage                   object\n",
       "localizations.en.title                    object\n",
       "localizations.en.description              object\n",
       "snippet.tags                              object\n",
       "contentDetails.contentRating.ytRating     object\n",
       "dtype: object"
      ]
     },
     "execution_count": 28,
     "metadata": {},
     "output_type": "execute_result"
    }
   ],
   "source": [
    "df.dtypes"
   ]
  },
  {
   "cell_type": "code",
   "execution_count": 29,
   "metadata": {},
   "outputs": [
    {
     "data": {
      "text/html": [
       "<div>\n",
       "<style scoped>\n",
       "    .dataframe tbody tr th:only-of-type {\n",
       "        vertical-align: middle;\n",
       "    }\n",
       "\n",
       "    .dataframe tbody tr th {\n",
       "        vertical-align: top;\n",
       "    }\n",
       "\n",
       "    .dataframe thead th {\n",
       "        text-align: right;\n",
       "    }\n",
       "</style>\n",
       "<table border=\"1\" class=\"dataframe\">\n",
       "  <thead>\n",
       "    <tr style=\"text-align: right;\">\n",
       "      <th></th>\n",
       "      <th>duration_seconds</th>\n",
       "      <th>viewCount</th>\n",
       "      <th>likeCount</th>\n",
       "      <th>commentCount</th>\n",
       "      <th>thumbnails.default.width</th>\n",
       "      <th>thumbnails.default.height</th>\n",
       "      <th>thumbnails.medium.width</th>\n",
       "      <th>thumbnails.medium.height</th>\n",
       "      <th>thumbnails.high.width</th>\n",
       "      <th>thumbnails.high.height</th>\n",
       "    </tr>\n",
       "  </thead>\n",
       "  <tbody>\n",
       "    <tr>\n",
       "      <th>count</th>\n",
       "      <td>247.000000</td>\n",
       "      <td>2.460000e+02</td>\n",
       "      <td>2.440000e+02</td>\n",
       "      <td>245.000000</td>\n",
       "      <td>246.0</td>\n",
       "      <td>246.0</td>\n",
       "      <td>246.0</td>\n",
       "      <td>246.0</td>\n",
       "      <td>246.0</td>\n",
       "      <td>246.0</td>\n",
       "    </tr>\n",
       "    <tr>\n",
       "      <th>mean</th>\n",
       "      <td>1886.234818</td>\n",
       "      <td>5.084638e+07</td>\n",
       "      <td>1.610498e+06</td>\n",
       "      <td>75562.783673</td>\n",
       "      <td>120.0</td>\n",
       "      <td>90.0</td>\n",
       "      <td>320.0</td>\n",
       "      <td>180.0</td>\n",
       "      <td>480.0</td>\n",
       "      <td>360.0</td>\n",
       "    </tr>\n",
       "    <tr>\n",
       "      <th>std</th>\n",
       "      <td>8642.188728</td>\n",
       "      <td>4.062672e+07</td>\n",
       "      <td>1.879529e+06</td>\n",
       "      <td>85356.537127</td>\n",
       "      <td>0.0</td>\n",
       "      <td>0.0</td>\n",
       "      <td>0.0</td>\n",
       "      <td>0.0</td>\n",
       "      <td>0.0</td>\n",
       "      <td>0.0</td>\n",
       "    </tr>\n",
       "    <tr>\n",
       "      <th>min</th>\n",
       "      <td>0.000000</td>\n",
       "      <td>1.395400e+04</td>\n",
       "      <td>3.700000e+02</td>\n",
       "      <td>59.000000</td>\n",
       "      <td>120.0</td>\n",
       "      <td>90.0</td>\n",
       "      <td>320.0</td>\n",
       "      <td>180.0</td>\n",
       "      <td>480.0</td>\n",
       "      <td>360.0</td>\n",
       "    </tr>\n",
       "    <tr>\n",
       "      <th>25%</th>\n",
       "      <td>425.500000</td>\n",
       "      <td>1.406442e+07</td>\n",
       "      <td>4.348780e+05</td>\n",
       "      <td>21552.000000</td>\n",
       "      <td>120.0</td>\n",
       "      <td>90.0</td>\n",
       "      <td>320.0</td>\n",
       "      <td>180.0</td>\n",
       "      <td>480.0</td>\n",
       "      <td>360.0</td>\n",
       "    </tr>\n",
       "    <tr>\n",
       "      <th>50%</th>\n",
       "      <td>776.000000</td>\n",
       "      <td>4.904782e+07</td>\n",
       "      <td>1.358232e+06</td>\n",
       "      <td>60701.000000</td>\n",
       "      <td>120.0</td>\n",
       "      <td>90.0</td>\n",
       "      <td>320.0</td>\n",
       "      <td>180.0</td>\n",
       "      <td>480.0</td>\n",
       "      <td>360.0</td>\n",
       "    </tr>\n",
       "    <tr>\n",
       "      <th>75%</th>\n",
       "      <td>923.000000</td>\n",
       "      <td>8.125392e+07</td>\n",
       "      <td>2.294378e+06</td>\n",
       "      <td>99670.000000</td>\n",
       "      <td>120.0</td>\n",
       "      <td>90.0</td>\n",
       "      <td>320.0</td>\n",
       "      <td>180.0</td>\n",
       "      <td>480.0</td>\n",
       "      <td>360.0</td>\n",
       "    </tr>\n",
       "    <tr>\n",
       "      <th>max</th>\n",
       "      <td>85686.000000</td>\n",
       "      <td>1.787632e+08</td>\n",
       "      <td>1.904943e+07</td>\n",
       "      <td>726861.000000</td>\n",
       "      <td>120.0</td>\n",
       "      <td>90.0</td>\n",
       "      <td>320.0</td>\n",
       "      <td>180.0</td>\n",
       "      <td>480.0</td>\n",
       "      <td>360.0</td>\n",
       "    </tr>\n",
       "  </tbody>\n",
       "</table>\n",
       "</div>"
      ],
      "text/plain": [
       "       duration_seconds     viewCount     likeCount   commentCount  \\\n",
       "count        247.000000  2.460000e+02  2.440000e+02     245.000000   \n",
       "mean        1886.234818  5.084638e+07  1.610498e+06   75562.783673   \n",
       "std         8642.188728  4.062672e+07  1.879529e+06   85356.537127   \n",
       "min            0.000000  1.395400e+04  3.700000e+02      59.000000   \n",
       "25%          425.500000  1.406442e+07  4.348780e+05   21552.000000   \n",
       "50%          776.000000  4.904782e+07  1.358232e+06   60701.000000   \n",
       "75%          923.000000  8.125392e+07  2.294378e+06   99670.000000   \n",
       "max        85686.000000  1.787632e+08  1.904943e+07  726861.000000   \n",
       "\n",
       "       thumbnails.default.width  thumbnails.default.height  \\\n",
       "count                     246.0                      246.0   \n",
       "mean                      120.0                       90.0   \n",
       "std                         0.0                        0.0   \n",
       "min                       120.0                       90.0   \n",
       "25%                       120.0                       90.0   \n",
       "50%                       120.0                       90.0   \n",
       "75%                       120.0                       90.0   \n",
       "max                       120.0                       90.0   \n",
       "\n",
       "       thumbnails.medium.width  thumbnails.medium.height  \\\n",
       "count                    246.0                     246.0   \n",
       "mean                     320.0                     180.0   \n",
       "std                        0.0                       0.0   \n",
       "min                      320.0                     180.0   \n",
       "25%                      320.0                     180.0   \n",
       "50%                      320.0                     180.0   \n",
       "75%                      320.0                     180.0   \n",
       "max                      320.0                     180.0   \n",
       "\n",
       "       thumbnails.high.width  thumbnails.high.height  \n",
       "count                  246.0                   246.0  \n",
       "mean                   480.0                   360.0  \n",
       "std                      0.0                     0.0  \n",
       "min                    480.0                   360.0  \n",
       "25%                    480.0                   360.0  \n",
       "50%                    480.0                   360.0  \n",
       "75%                    480.0                   360.0  \n",
       "max                    480.0                   360.0  "
      ]
     },
     "execution_count": 29,
     "metadata": {},
     "output_type": "execute_result"
    }
   ],
   "source": [
    "# describe只會顯示數值類資料\n",
    "df.describe()"
   ]
  },
  {
   "cell_type": "markdown",
   "metadata": {},
   "source": [
    "# Columns and Rows"
   ]
  },
  {
   "cell_type": "code",
   "execution_count": 31,
   "metadata": {},
   "outputs": [
    {
     "data": {
      "text/plain": [
       "0       84717282.0\n",
       "1       32090178.0\n",
       "2              NaN\n",
       "3      101745632.0\n",
       "4       50008942.0\n",
       "          ...     \n",
       "242        16312.0\n",
       "243        15740.0\n",
       "244        18502.0\n",
       "245        16627.0\n",
       "246        18773.0\n",
       "Name: viewCount, Length: 247, dtype: float64"
      ]
     },
     "execution_count": 31,
     "metadata": {},
     "output_type": "execute_result"
    }
   ],
   "source": [
    "# 特別去看某個 Colums\n",
    "df['viewCount']"
   ]
  },
  {
   "cell_type": "code",
   "execution_count": 32,
   "metadata": {},
   "outputs": [
    {
     "data": {
      "text/plain": [
       "id                                                                             cExLQ1o2pDw\n",
       "title                                                      First To Rob Bank Wins $100,000\n",
       "description                              I didnt think he would actually rob the bank.....\n",
       "publishTime                                                      2021-09-26 20:00:06+00:00\n",
       "kind_stats                                                                   youtube#video\n",
       "duration_seconds                                                                       482\n",
       "viewCount                                                                       50008942.0\n",
       "likeCount                                                                        2359606.0\n",
       "commentCount                                                                      120621.0\n",
       "thumbnails.default.url                      https://i.ytimg.com/vi/cExLQ1o2pDw/default.jpg\n",
       "thumbnails.default.width                                                             120.0\n",
       "thumbnails.default.height                                                             90.0\n",
       "thumbnails.medium.url                     https://i.ytimg.com/vi/cExLQ1o2pDw/mqdefault.jpg\n",
       "thumbnails.medium.width                                                              320.0\n",
       "thumbnails.medium.height                                                             180.0\n",
       "thumbnails.high.url                       https://i.ytimg.com/vi/cExLQ1o2pDw/hqdefault.jpg\n",
       "thumbnails.high.width                                                                480.0\n",
       "thumbnails.high.height                                                               360.0\n",
       "contentDetails.duration                                                             PT8M2S\n",
       "contentDetails.dimension                                                                2d\n",
       "topicDetails.topicCategories             ['https://en.wikipedia.org/wiki/Lifestyle_(soc...\n",
       "snippet.defaultLanguage                                                                NaN\n",
       "localizations.en.title                                                                 NaN\n",
       "localizations.en.description                                                           NaN\n",
       "snippet.tags                                                                           NaN\n",
       "contentDetails.contentRating.ytRating                                                  NaN\n",
       "Name: 4, dtype: object"
      ]
     },
     "execution_count": 32,
     "metadata": {},
     "output_type": "execute_result"
    }
   ],
   "source": [
    "# 特別去看某個 Rows => 用 loc => 但這僅限於你知道 data index 編號\n",
    "df.loc[4]"
   ]
  },
  {
   "cell_type": "code",
   "execution_count": 40,
   "metadata": {},
   "outputs": [],
   "source": [
    "# 如果把 index 改成用 id \n",
    "df = df.set_index('id')"
   ]
  },
  {
   "cell_type": "code",
   "execution_count": 42,
   "metadata": {},
   "outputs": [
    {
     "data": {
      "text/plain": [
       "title                                                      First To Rob Bank Wins $100,000\n",
       "description                              I didnt think he would actually rob the bank.....\n",
       "publishTime                                                      2021-09-26 20:00:06+00:00\n",
       "kind_stats                                                                   youtube#video\n",
       "duration_seconds                                                                       482\n",
       "viewCount                                                                       50008942.0\n",
       "likeCount                                                                        2359606.0\n",
       "commentCount                                                                      120621.0\n",
       "thumbnails.default.url                      https://i.ytimg.com/vi/cExLQ1o2pDw/default.jpg\n",
       "thumbnails.default.width                                                             120.0\n",
       "thumbnails.default.height                                                             90.0\n",
       "thumbnails.medium.url                     https://i.ytimg.com/vi/cExLQ1o2pDw/mqdefault.jpg\n",
       "thumbnails.medium.width                                                              320.0\n",
       "thumbnails.medium.height                                                             180.0\n",
       "thumbnails.high.url                       https://i.ytimg.com/vi/cExLQ1o2pDw/hqdefault.jpg\n",
       "thumbnails.high.width                                                                480.0\n",
       "thumbnails.high.height                                                               360.0\n",
       "contentDetails.duration                                                             PT8M2S\n",
       "contentDetails.dimension                                                                2d\n",
       "topicDetails.topicCategories             ['https://en.wikipedia.org/wiki/Lifestyle_(soc...\n",
       "snippet.defaultLanguage                                                                NaN\n",
       "localizations.en.title                                                                 NaN\n",
       "localizations.en.description                                                           NaN\n",
       "snippet.tags                                                                           NaN\n",
       "contentDetails.contentRating.ytRating                                                  NaN\n",
       "Name: cExLQ1o2pDw, dtype: object"
      ]
     },
     "execution_count": 42,
     "metadata": {},
     "output_type": "execute_result"
    }
   ],
   "source": [
    "df.loc['cExLQ1o2pDw']"
   ]
  },
  {
   "cell_type": "markdown",
   "metadata": {},
   "source": [
    "# Subsetting Data"
   ]
  },
  {
   "cell_type": "code",
   "execution_count": 44,
   "metadata": {},
   "outputs": [
    {
     "data": {
      "text/plain": [
       "Index(['title', 'description', 'publishTime', 'kind_stats', 'duration_seconds',\n",
       "       'viewCount', 'likeCount', 'commentCount', 'thumbnails.default.url',\n",
       "       'thumbnails.default.width', 'thumbnails.default.height',\n",
       "       'thumbnails.medium.url', 'thumbnails.medium.width',\n",
       "       'thumbnails.medium.height', 'thumbnails.high.url',\n",
       "       'thumbnails.high.width', 'thumbnails.high.height',\n",
       "       'contentDetails.duration', 'contentDetails.dimension',\n",
       "       'topicDetails.topicCategories', 'snippet.defaultLanguage',\n",
       "       'localizations.en.title', 'localizations.en.description',\n",
       "       'snippet.tags', 'contentDetails.contentRating.ytRating'],\n",
       "      dtype='object')"
      ]
     },
     "execution_count": 44,
     "metadata": {},
     "output_type": "execute_result"
    }
   ],
   "source": [
    "df.columns"
   ]
  },
  {
   "cell_type": "markdown",
   "metadata": {},
   "source": [
    "## 只留下感興趣Data"
   ]
  },
  {
   "cell_type": "code",
   "execution_count": 45,
   "metadata": {},
   "outputs": [],
   "source": [
    "# Subsetting Columns\n",
    "df =  df[['title', 'description', 'publishTime', \n",
    "       'duration_seconds','viewCount', 'likeCount', \n",
    "       'commentCount']]"
   ]
  },
  {
   "cell_type": "code",
   "execution_count": 46,
   "metadata": {},
   "outputs": [
    {
     "data": {
      "text/html": [
       "<div>\n",
       "<style scoped>\n",
       "    .dataframe tbody tr th:only-of-type {\n",
       "        vertical-align: middle;\n",
       "    }\n",
       "\n",
       "    .dataframe tbody tr th {\n",
       "        vertical-align: top;\n",
       "    }\n",
       "\n",
       "    .dataframe thead th {\n",
       "        text-align: right;\n",
       "    }\n",
       "</style>\n",
       "<table border=\"1\" class=\"dataframe\">\n",
       "  <thead>\n",
       "    <tr style=\"text-align: right;\">\n",
       "      <th></th>\n",
       "      <th>title</th>\n",
       "      <th>description</th>\n",
       "      <th>publishTime</th>\n",
       "      <th>duration_seconds</th>\n",
       "      <th>viewCount</th>\n",
       "      <th>likeCount</th>\n",
       "      <th>commentCount</th>\n",
       "    </tr>\n",
       "    <tr>\n",
       "      <th>id</th>\n",
       "      <th></th>\n",
       "      <th></th>\n",
       "      <th></th>\n",
       "      <th></th>\n",
       "      <th></th>\n",
       "      <th></th>\n",
       "      <th></th>\n",
       "    </tr>\n",
       "  </thead>\n",
       "  <tbody>\n",
       "    <tr>\n",
       "      <th>TQHEJj68Jew</th>\n",
       "      <td>I Got Hunted By A Real Bounty Hunter</td>\n",
       "      <td>Sign up for Current w/ my Creator Code \"BEAST\"...</td>\n",
       "      <td>2021-04-24 20:00:00+00:00</td>\n",
       "      <td>861</td>\n",
       "      <td>84717282.0</td>\n",
       "      <td>2876493.0</td>\n",
       "      <td>128922.0</td>\n",
       "    </tr>\n",
       "    <tr>\n",
       "      <th>00NgUctWoLQ</th>\n",
       "      <td>Extreme $1,000,000 Hide And Seek</td>\n",
       "      <td>I didn't expect that to happen at the end I wa...</td>\n",
       "      <td>2021-12-18 21:00:00+00:00</td>\n",
       "      <td>729</td>\n",
       "      <td>32090178.0</td>\n",
       "      <td>2125183.0</td>\n",
       "      <td>73593.0</td>\n",
       "    </tr>\n",
       "    <tr>\n",
       "      <th>NaN</th>\n",
       "      <td>MrBeast</td>\n",
       "      <td>Accomplishments - Raised $20000000 To Plant 20...</td>\n",
       "      <td>2012-02-20 00:43:50+00:00</td>\n",
       "      <td>0</td>\n",
       "      <td>NaN</td>\n",
       "      <td>NaN</td>\n",
       "      <td>NaN</td>\n",
       "    </tr>\n",
       "    <tr>\n",
       "      <th>ayXxwJJId_c</th>\n",
       "      <td>I Bought The World&amp;#39;s Largest Mystery Box! ...</td>\n",
       "      <td>I cant believe I spent over $500000 on mystery...</td>\n",
       "      <td>2021-04-03 20:00:01+00:00</td>\n",
       "      <td>709</td>\n",
       "      <td>101745632.0</td>\n",
       "      <td>3110824.0</td>\n",
       "      <td>162796.0</td>\n",
       "    </tr>\n",
       "    <tr>\n",
       "      <th>cExLQ1o2pDw</th>\n",
       "      <td>First To Rob Bank Wins $100,000</td>\n",
       "      <td>I didnt think he would actually rob the bank.....</td>\n",
       "      <td>2021-09-26 20:00:06+00:00</td>\n",
       "      <td>482</td>\n",
       "      <td>50008942.0</td>\n",
       "      <td>2359606.0</td>\n",
       "      <td>120621.0</td>\n",
       "    </tr>\n",
       "  </tbody>\n",
       "</table>\n",
       "</div>"
      ],
      "text/plain": [
       "                                                         title  \\\n",
       "id                                                               \n",
       "TQHEJj68Jew               I Got Hunted By A Real Bounty Hunter   \n",
       "00NgUctWoLQ                   Extreme $1,000,000 Hide And Seek   \n",
       "NaN                                                    MrBeast   \n",
       "ayXxwJJId_c  I Bought The World&#39;s Largest Mystery Box! ...   \n",
       "cExLQ1o2pDw                    First To Rob Bank Wins $100,000   \n",
       "\n",
       "                                                   description  \\\n",
       "id                                                               \n",
       "TQHEJj68Jew  Sign up for Current w/ my Creator Code \"BEAST\"...   \n",
       "00NgUctWoLQ  I didn't expect that to happen at the end I wa...   \n",
       "NaN          Accomplishments - Raised $20000000 To Plant 20...   \n",
       "ayXxwJJId_c  I cant believe I spent over $500000 on mystery...   \n",
       "cExLQ1o2pDw  I didnt think he would actually rob the bank.....   \n",
       "\n",
       "                           publishTime  duration_seconds    viewCount  \\\n",
       "id                                                                      \n",
       "TQHEJj68Jew  2021-04-24 20:00:00+00:00               861   84717282.0   \n",
       "00NgUctWoLQ  2021-12-18 21:00:00+00:00               729   32090178.0   \n",
       "NaN          2012-02-20 00:43:50+00:00                 0          NaN   \n",
       "ayXxwJJId_c  2021-04-03 20:00:01+00:00               709  101745632.0   \n",
       "cExLQ1o2pDw  2021-09-26 20:00:06+00:00               482   50008942.0   \n",
       "\n",
       "             likeCount  commentCount  \n",
       "id                                    \n",
       "TQHEJj68Jew  2876493.0      128922.0  \n",
       "00NgUctWoLQ  2125183.0       73593.0  \n",
       "NaN                NaN           NaN  \n",
       "ayXxwJJId_c  3110824.0      162796.0  \n",
       "cExLQ1o2pDw  2359606.0      120621.0  "
      ]
     },
     "execution_count": 46,
     "metadata": {},
     "output_type": "execute_result"
    }
   ],
   "source": [
    "df.head()"
   ]
  },
  {
   "cell_type": "code",
   "execution_count": 48,
   "metadata": {},
   "outputs": [
    {
     "data": {
      "text/plain": [
       "(247, 7)"
      ]
     },
     "execution_count": 48,
     "metadata": {},
     "output_type": "execute_result"
    }
   ],
   "source": [
    "df.shape"
   ]
  },
  {
   "cell_type": "markdown",
   "metadata": {},
   "source": [
    "⬆️ (247筆資料, 7個columns)⬆️"
   ]
  },
  {
   "cell_type": "code",
   "execution_count": null,
   "metadata": {},
   "outputs": [],
   "source": [
    "# subsetting rows"
   ]
  },
  {
   "cell_type": "code",
   "execution_count": 50,
   "metadata": {},
   "outputs": [
    {
     "data": {
      "text/plain": [
       "id\n",
       "TQHEJj68Jew     True\n",
       "00NgUctWoLQ     True\n",
       "NaN            False\n",
       "ayXxwJJId_c     True\n",
       "cExLQ1o2pDw     True\n",
       "               ...  \n",
       "yeHjsYQ076A    False\n",
       "X7doE4h6W64    False\n",
       "AIytwdufwW8    False\n",
       "56OkH6ocYZU    False\n",
       "zi7tZ-2PhLk    False\n",
       "Name: viewCount, Length: 247, dtype: bool"
      ]
     },
     "execution_count": 50,
     "metadata": {},
     "output_type": "execute_result"
    }
   ],
   "source": [
    "df['viewCount'] > 1_000_000"
   ]
  },
  {
   "cell_type": "code",
   "execution_count": 51,
   "metadata": {},
   "outputs": [
    {
     "data": {
      "text/html": [
       "<div>\n",
       "<style scoped>\n",
       "    .dataframe tbody tr th:only-of-type {\n",
       "        vertical-align: middle;\n",
       "    }\n",
       "\n",
       "    .dataframe tbody tr th {\n",
       "        vertical-align: top;\n",
       "    }\n",
       "\n",
       "    .dataframe thead th {\n",
       "        text-align: right;\n",
       "    }\n",
       "</style>\n",
       "<table border=\"1\" class=\"dataframe\">\n",
       "  <thead>\n",
       "    <tr style=\"text-align: right;\">\n",
       "      <th></th>\n",
       "      <th>title</th>\n",
       "      <th>description</th>\n",
       "      <th>publishTime</th>\n",
       "      <th>duration_seconds</th>\n",
       "      <th>viewCount</th>\n",
       "      <th>likeCount</th>\n",
       "      <th>commentCount</th>\n",
       "    </tr>\n",
       "    <tr>\n",
       "      <th>id</th>\n",
       "      <th></th>\n",
       "      <th></th>\n",
       "      <th></th>\n",
       "      <th></th>\n",
       "      <th></th>\n",
       "      <th></th>\n",
       "      <th></th>\n",
       "    </tr>\n",
       "  </thead>\n",
       "  <tbody>\n",
       "    <tr>\n",
       "      <th>TQHEJj68Jew</th>\n",
       "      <td>I Got Hunted By A Real Bounty Hunter</td>\n",
       "      <td>Sign up for Current w/ my Creator Code \"BEAST\"...</td>\n",
       "      <td>2021-04-24 20:00:00+00:00</td>\n",
       "      <td>861</td>\n",
       "      <td>84717282.0</td>\n",
       "      <td>2876493.0</td>\n",
       "      <td>128922.0</td>\n",
       "    </tr>\n",
       "    <tr>\n",
       "      <th>00NgUctWoLQ</th>\n",
       "      <td>Extreme $1,000,000 Hide And Seek</td>\n",
       "      <td>I didn't expect that to happen at the end I wa...</td>\n",
       "      <td>2021-12-18 21:00:00+00:00</td>\n",
       "      <td>729</td>\n",
       "      <td>32090178.0</td>\n",
       "      <td>2125183.0</td>\n",
       "      <td>73593.0</td>\n",
       "    </tr>\n",
       "    <tr>\n",
       "      <th>ayXxwJJId_c</th>\n",
       "      <td>I Bought The World&amp;#39;s Largest Mystery Box! ...</td>\n",
       "      <td>I cant believe I spent over $500000 on mystery...</td>\n",
       "      <td>2021-04-03 20:00:01+00:00</td>\n",
       "      <td>709</td>\n",
       "      <td>101745632.0</td>\n",
       "      <td>3110824.0</td>\n",
       "      <td>162796.0</td>\n",
       "    </tr>\n",
       "    <tr>\n",
       "      <th>cExLQ1o2pDw</th>\n",
       "      <td>First To Rob Bank Wins $100,000</td>\n",
       "      <td>I didnt think he would actually rob the bank.....</td>\n",
       "      <td>2021-09-26 20:00:06+00:00</td>\n",
       "      <td>482</td>\n",
       "      <td>50008942.0</td>\n",
       "      <td>2359606.0</td>\n",
       "      <td>120621.0</td>\n",
       "    </tr>\n",
       "    <tr>\n",
       "      <th>GLoeAJUcz38</th>\n",
       "      <td>Press This Button To Win $100,000!</td>\n",
       "      <td>Push the red subscribe button and you could al...</td>\n",
       "      <td>2020-11-14 21:00:02+00:00</td>\n",
       "      <td>911</td>\n",
       "      <td>145527042.0</td>\n",
       "      <td>2762425.0</td>\n",
       "      <td>83853.0</td>\n",
       "    </tr>\n",
       "    <tr>\n",
       "      <th>...</th>\n",
       "      <td>...</td>\n",
       "      <td>...</td>\n",
       "      <td>...</td>\n",
       "      <td>...</td>\n",
       "      <td>...</td>\n",
       "      <td>...</td>\n",
       "      <td>...</td>\n",
       "    </tr>\n",
       "    <tr>\n",
       "      <th>xWcldHxHFpo</th>\n",
       "      <td>I Counted To 100,000!</td>\n",
       "      <td>I can't believe I did this.. Like or I eat you...</td>\n",
       "      <td>2017-01-09 00:00:39+00:00</td>\n",
       "      <td>85686</td>\n",
       "      <td>24636026.0</td>\n",
       "      <td>1162093.0</td>\n",
       "      <td>123360.0</td>\n",
       "    </tr>\n",
       "    <tr>\n",
       "      <th>mGIpOtncmSM</th>\n",
       "      <td>Saying Pewdiepie 100,000 Times</td>\n",
       "      <td>I SAID HIS NAME 100000 TIMES TO STOP TSERIES I...</td>\n",
       "      <td>2018-11-25 21:07:01+00:00</td>\n",
       "      <td>42520</td>\n",
       "      <td>21226054.0</td>\n",
       "      <td>1451683.0</td>\n",
       "      <td>173172.0</td>\n",
       "    </tr>\n",
       "    <tr>\n",
       "      <th>9CVwXBYVqVk</th>\n",
       "      <td>Counting To 200,000 (Road To A Mil)</td>\n",
       "      <td>I can't believe I did this *expand* Like I sai...</td>\n",
       "      <td>2017-02-18 00:00:03+00:00</td>\n",
       "      <td>84878</td>\n",
       "      <td>3357112.0</td>\n",
       "      <td>133927.0</td>\n",
       "      <td>19482.0</td>\n",
       "    </tr>\n",
       "    <tr>\n",
       "      <th>2IGxSOfsBok</th>\n",
       "      <td>I Hate Pewdiepie!!!!!</td>\n",
       "      <td>I pretty much explain it in the video. I dont ...</td>\n",
       "      <td>2014-02-01 00:16:57+00:00</td>\n",
       "      <td>126</td>\n",
       "      <td>2660347.0</td>\n",
       "      <td>220560.0</td>\n",
       "      <td>15901.0</td>\n",
       "    </tr>\n",
       "    <tr>\n",
       "      <th>bEIK5ni_Pzs</th>\n",
       "      <td>How Many People Get The Diamond Play Button?????</td>\n",
       "      <td>This is about the new diamond play button that...</td>\n",
       "      <td>2015-07-25 10:00:03+00:00</td>\n",
       "      <td>236</td>\n",
       "      <td>1711032.0</td>\n",
       "      <td>16809.0</td>\n",
       "      <td>2775.0</td>\n",
       "    </tr>\n",
       "  </tbody>\n",
       "</table>\n",
       "<p>203 rows × 7 columns</p>\n",
       "</div>"
      ],
      "text/plain": [
       "                                                         title  \\\n",
       "id                                                               \n",
       "TQHEJj68Jew               I Got Hunted By A Real Bounty Hunter   \n",
       "00NgUctWoLQ                   Extreme $1,000,000 Hide And Seek   \n",
       "ayXxwJJId_c  I Bought The World&#39;s Largest Mystery Box! ...   \n",
       "cExLQ1o2pDw                    First To Rob Bank Wins $100,000   \n",
       "GLoeAJUcz38                 Press This Button To Win $100,000!   \n",
       "...                                                        ...   \n",
       "xWcldHxHFpo                              I Counted To 100,000!   \n",
       "mGIpOtncmSM                     Saying Pewdiepie 100,000 Times   \n",
       "9CVwXBYVqVk                Counting To 200,000 (Road To A Mil)   \n",
       "2IGxSOfsBok                              I Hate Pewdiepie!!!!!   \n",
       "bEIK5ni_Pzs   How Many People Get The Diamond Play Button?????   \n",
       "\n",
       "                                                   description  \\\n",
       "id                                                               \n",
       "TQHEJj68Jew  Sign up for Current w/ my Creator Code \"BEAST\"...   \n",
       "00NgUctWoLQ  I didn't expect that to happen at the end I wa...   \n",
       "ayXxwJJId_c  I cant believe I spent over $500000 on mystery...   \n",
       "cExLQ1o2pDw  I didnt think he would actually rob the bank.....   \n",
       "GLoeAJUcz38  Push the red subscribe button and you could al...   \n",
       "...                                                        ...   \n",
       "xWcldHxHFpo  I can't believe I did this.. Like or I eat you...   \n",
       "mGIpOtncmSM  I SAID HIS NAME 100000 TIMES TO STOP TSERIES I...   \n",
       "9CVwXBYVqVk  I can't believe I did this *expand* Like I sai...   \n",
       "2IGxSOfsBok  I pretty much explain it in the video. I dont ...   \n",
       "bEIK5ni_Pzs  This is about the new diamond play button that...   \n",
       "\n",
       "                           publishTime  duration_seconds    viewCount  \\\n",
       "id                                                                      \n",
       "TQHEJj68Jew  2021-04-24 20:00:00+00:00               861   84717282.0   \n",
       "00NgUctWoLQ  2021-12-18 21:00:00+00:00               729   32090178.0   \n",
       "ayXxwJJId_c  2021-04-03 20:00:01+00:00               709  101745632.0   \n",
       "cExLQ1o2pDw  2021-09-26 20:00:06+00:00               482   50008942.0   \n",
       "GLoeAJUcz38  2020-11-14 21:00:02+00:00               911  145527042.0   \n",
       "...                                ...               ...          ...   \n",
       "xWcldHxHFpo  2017-01-09 00:00:39+00:00             85686   24636026.0   \n",
       "mGIpOtncmSM  2018-11-25 21:07:01+00:00             42520   21226054.0   \n",
       "9CVwXBYVqVk  2017-02-18 00:00:03+00:00             84878    3357112.0   \n",
       "2IGxSOfsBok  2014-02-01 00:16:57+00:00               126    2660347.0   \n",
       "bEIK5ni_Pzs  2015-07-25 10:00:03+00:00               236    1711032.0   \n",
       "\n",
       "             likeCount  commentCount  \n",
       "id                                    \n",
       "TQHEJj68Jew  2876493.0      128922.0  \n",
       "00NgUctWoLQ  2125183.0       73593.0  \n",
       "ayXxwJJId_c  3110824.0      162796.0  \n",
       "cExLQ1o2pDw  2359606.0      120621.0  \n",
       "GLoeAJUcz38  2762425.0       83853.0  \n",
       "...                ...           ...  \n",
       "xWcldHxHFpo  1162093.0      123360.0  \n",
       "mGIpOtncmSM  1451683.0      173172.0  \n",
       "9CVwXBYVqVk   133927.0       19482.0  \n",
       "2IGxSOfsBok   220560.0       15901.0  \n",
       "bEIK5ni_Pzs    16809.0        2775.0  \n",
       "\n",
       "[203 rows x 7 columns]"
      ]
     },
     "execution_count": 51,
     "metadata": {},
     "output_type": "execute_result"
    }
   ],
   "source": [
    "# subsetting using loc 篩選\n",
    "df.loc[df['viewCount'] > 1_000_000]"
   ]
  },
  {
   "cell_type": "code",
   "execution_count": 53,
   "metadata": {},
   "outputs": [
    {
     "data": {
      "text/html": [
       "<div>\n",
       "<style scoped>\n",
       "    .dataframe tbody tr th:only-of-type {\n",
       "        vertical-align: middle;\n",
       "    }\n",
       "\n",
       "    .dataframe tbody tr th {\n",
       "        vertical-align: top;\n",
       "    }\n",
       "\n",
       "    .dataframe thead th {\n",
       "        text-align: right;\n",
       "    }\n",
       "</style>\n",
       "<table border=\"1\" class=\"dataframe\">\n",
       "  <thead>\n",
       "    <tr style=\"text-align: right;\">\n",
       "      <th></th>\n",
       "      <th>title</th>\n",
       "      <th>description</th>\n",
       "      <th>publishTime</th>\n",
       "      <th>duration_seconds</th>\n",
       "      <th>viewCount</th>\n",
       "      <th>likeCount</th>\n",
       "      <th>commentCount</th>\n",
       "    </tr>\n",
       "    <tr>\n",
       "      <th>id</th>\n",
       "      <th></th>\n",
       "      <th></th>\n",
       "      <th></th>\n",
       "      <th></th>\n",
       "      <th></th>\n",
       "      <th></th>\n",
       "      <th></th>\n",
       "    </tr>\n",
       "  </thead>\n",
       "  <tbody>\n",
       "    <tr>\n",
       "      <th>TQHEJj68Jew</th>\n",
       "      <td>I Got Hunted By A Real Bounty Hunter</td>\n",
       "      <td>Sign up for Current w/ my Creator Code \"BEAST\"...</td>\n",
       "      <td>2021-04-24 20:00:00+00:00</td>\n",
       "      <td>861</td>\n",
       "      <td>84717282.0</td>\n",
       "      <td>2876493.0</td>\n",
       "      <td>128922.0</td>\n",
       "    </tr>\n",
       "    <tr>\n",
       "      <th>00NgUctWoLQ</th>\n",
       "      <td>Extreme $1,000,000 Hide And Seek</td>\n",
       "      <td>I didn't expect that to happen at the end I wa...</td>\n",
       "      <td>2021-12-18 21:00:00+00:00</td>\n",
       "      <td>729</td>\n",
       "      <td>32090178.0</td>\n",
       "      <td>2125183.0</td>\n",
       "      <td>73593.0</td>\n",
       "    </tr>\n",
       "    <tr>\n",
       "      <th>ayXxwJJId_c</th>\n",
       "      <td>I Bought The World&amp;#39;s Largest Mystery Box! ...</td>\n",
       "      <td>I cant believe I spent over $500000 on mystery...</td>\n",
       "      <td>2021-04-03 20:00:01+00:00</td>\n",
       "      <td>709</td>\n",
       "      <td>101745632.0</td>\n",
       "      <td>3110824.0</td>\n",
       "      <td>162796.0</td>\n",
       "    </tr>\n",
       "    <tr>\n",
       "      <th>cExLQ1o2pDw</th>\n",
       "      <td>First To Rob Bank Wins $100,000</td>\n",
       "      <td>I didnt think he would actually rob the bank.....</td>\n",
       "      <td>2021-09-26 20:00:06+00:00</td>\n",
       "      <td>482</td>\n",
       "      <td>50008942.0</td>\n",
       "      <td>2359606.0</td>\n",
       "      <td>120621.0</td>\n",
       "    </tr>\n",
       "    <tr>\n",
       "      <th>GLoeAJUcz38</th>\n",
       "      <td>Press This Button To Win $100,000!</td>\n",
       "      <td>Push the red subscribe button and you could al...</td>\n",
       "      <td>2020-11-14 21:00:02+00:00</td>\n",
       "      <td>911</td>\n",
       "      <td>145527042.0</td>\n",
       "      <td>2762425.0</td>\n",
       "      <td>83853.0</td>\n",
       "    </tr>\n",
       "    <tr>\n",
       "      <th>...</th>\n",
       "      <td>...</td>\n",
       "      <td>...</td>\n",
       "      <td>...</td>\n",
       "      <td>...</td>\n",
       "      <td>...</td>\n",
       "      <td>...</td>\n",
       "      <td>...</td>\n",
       "    </tr>\n",
       "    <tr>\n",
       "      <th>xWcldHxHFpo</th>\n",
       "      <td>I Counted To 100,000!</td>\n",
       "      <td>I can't believe I did this.. Like or I eat you...</td>\n",
       "      <td>2017-01-09 00:00:39+00:00</td>\n",
       "      <td>85686</td>\n",
       "      <td>24636026.0</td>\n",
       "      <td>1162093.0</td>\n",
       "      <td>123360.0</td>\n",
       "    </tr>\n",
       "    <tr>\n",
       "      <th>mGIpOtncmSM</th>\n",
       "      <td>Saying Pewdiepie 100,000 Times</td>\n",
       "      <td>I SAID HIS NAME 100000 TIMES TO STOP TSERIES I...</td>\n",
       "      <td>2018-11-25 21:07:01+00:00</td>\n",
       "      <td>42520</td>\n",
       "      <td>21226054.0</td>\n",
       "      <td>1451683.0</td>\n",
       "      <td>173172.0</td>\n",
       "    </tr>\n",
       "    <tr>\n",
       "      <th>9CVwXBYVqVk</th>\n",
       "      <td>Counting To 200,000 (Road To A Mil)</td>\n",
       "      <td>I can't believe I did this *expand* Like I sai...</td>\n",
       "      <td>2017-02-18 00:00:03+00:00</td>\n",
       "      <td>84878</td>\n",
       "      <td>3357112.0</td>\n",
       "      <td>133927.0</td>\n",
       "      <td>19482.0</td>\n",
       "    </tr>\n",
       "    <tr>\n",
       "      <th>2IGxSOfsBok</th>\n",
       "      <td>I Hate Pewdiepie!!!!!</td>\n",
       "      <td>I pretty much explain it in the video. I dont ...</td>\n",
       "      <td>2014-02-01 00:16:57+00:00</td>\n",
       "      <td>126</td>\n",
       "      <td>2660347.0</td>\n",
       "      <td>220560.0</td>\n",
       "      <td>15901.0</td>\n",
       "    </tr>\n",
       "    <tr>\n",
       "      <th>bEIK5ni_Pzs</th>\n",
       "      <td>How Many People Get The Diamond Play Button?????</td>\n",
       "      <td>This is about the new diamond play button that...</td>\n",
       "      <td>2015-07-25 10:00:03+00:00</td>\n",
       "      <td>236</td>\n",
       "      <td>1711032.0</td>\n",
       "      <td>16809.0</td>\n",
       "      <td>2775.0</td>\n",
       "    </tr>\n",
       "  </tbody>\n",
       "</table>\n",
       "<p>203 rows × 7 columns</p>\n",
       "</div>"
      ],
      "text/plain": [
       "                                                         title  \\\n",
       "id                                                               \n",
       "TQHEJj68Jew               I Got Hunted By A Real Bounty Hunter   \n",
       "00NgUctWoLQ                   Extreme $1,000,000 Hide And Seek   \n",
       "ayXxwJJId_c  I Bought The World&#39;s Largest Mystery Box! ...   \n",
       "cExLQ1o2pDw                    First To Rob Bank Wins $100,000   \n",
       "GLoeAJUcz38                 Press This Button To Win $100,000!   \n",
       "...                                                        ...   \n",
       "xWcldHxHFpo                              I Counted To 100,000!   \n",
       "mGIpOtncmSM                     Saying Pewdiepie 100,000 Times   \n",
       "9CVwXBYVqVk                Counting To 200,000 (Road To A Mil)   \n",
       "2IGxSOfsBok                              I Hate Pewdiepie!!!!!   \n",
       "bEIK5ni_Pzs   How Many People Get The Diamond Play Button?????   \n",
       "\n",
       "                                                   description  \\\n",
       "id                                                               \n",
       "TQHEJj68Jew  Sign up for Current w/ my Creator Code \"BEAST\"...   \n",
       "00NgUctWoLQ  I didn't expect that to happen at the end I wa...   \n",
       "ayXxwJJId_c  I cant believe I spent over $500000 on mystery...   \n",
       "cExLQ1o2pDw  I didnt think he would actually rob the bank.....   \n",
       "GLoeAJUcz38  Push the red subscribe button and you could al...   \n",
       "...                                                        ...   \n",
       "xWcldHxHFpo  I can't believe I did this.. Like or I eat you...   \n",
       "mGIpOtncmSM  I SAID HIS NAME 100000 TIMES TO STOP TSERIES I...   \n",
       "9CVwXBYVqVk  I can't believe I did this *expand* Like I sai...   \n",
       "2IGxSOfsBok  I pretty much explain it in the video. I dont ...   \n",
       "bEIK5ni_Pzs  This is about the new diamond play button that...   \n",
       "\n",
       "                           publishTime  duration_seconds    viewCount  \\\n",
       "id                                                                      \n",
       "TQHEJj68Jew  2021-04-24 20:00:00+00:00               861   84717282.0   \n",
       "00NgUctWoLQ  2021-12-18 21:00:00+00:00               729   32090178.0   \n",
       "ayXxwJJId_c  2021-04-03 20:00:01+00:00               709  101745632.0   \n",
       "cExLQ1o2pDw  2021-09-26 20:00:06+00:00               482   50008942.0   \n",
       "GLoeAJUcz38  2020-11-14 21:00:02+00:00               911  145527042.0   \n",
       "...                                ...               ...          ...   \n",
       "xWcldHxHFpo  2017-01-09 00:00:39+00:00             85686   24636026.0   \n",
       "mGIpOtncmSM  2018-11-25 21:07:01+00:00             42520   21226054.0   \n",
       "9CVwXBYVqVk  2017-02-18 00:00:03+00:00             84878    3357112.0   \n",
       "2IGxSOfsBok  2014-02-01 00:16:57+00:00               126    2660347.0   \n",
       "bEIK5ni_Pzs  2015-07-25 10:00:03+00:00               236    1711032.0   \n",
       "\n",
       "             likeCount  commentCount  \n",
       "id                                    \n",
       "TQHEJj68Jew  2876493.0      128922.0  \n",
       "00NgUctWoLQ  2125183.0       73593.0  \n",
       "ayXxwJJId_c  3110824.0      162796.0  \n",
       "cExLQ1o2pDw  2359606.0      120621.0  \n",
       "GLoeAJUcz38  2762425.0       83853.0  \n",
       "...                ...           ...  \n",
       "xWcldHxHFpo  1162093.0      123360.0  \n",
       "mGIpOtncmSM  1451683.0      173172.0  \n",
       "9CVwXBYVqVk   133927.0       19482.0  \n",
       "2IGxSOfsBok   220560.0       15901.0  \n",
       "bEIK5ni_Pzs    16809.0        2775.0  \n",
       "\n",
       "[203 rows x 7 columns]"
      ]
     },
     "execution_count": 53,
     "metadata": {},
     "output_type": "execute_result"
    }
   ],
   "source": [
    "# pandas 新功能： query\n",
    "df.query('viewCount > 1000000')"
   ]
  },
  {
   "cell_type": "markdown",
   "metadata": {},
   "source": [
    "## Drop no value data"
   ]
  },
  {
   "cell_type": "code",
   "execution_count": 54,
   "metadata": {},
   "outputs": [
    {
     "data": {
      "text/plain": [
       "id\n",
       "TQHEJj68Jew    False\n",
       "00NgUctWoLQ    False\n",
       "NaN             True\n",
       "ayXxwJJId_c    False\n",
       "cExLQ1o2pDw    False\n",
       "               ...  \n",
       "yeHjsYQ076A    False\n",
       "X7doE4h6W64    False\n",
       "AIytwdufwW8    False\n",
       "56OkH6ocYZU    False\n",
       "zi7tZ-2PhLk    False\n",
       "Name: viewCount, Length: 247, dtype: bool"
      ]
     },
     "execution_count": 54,
     "metadata": {},
     "output_type": "execute_result"
    }
   ],
   "source": [
    "# 清理資料\n",
    "df['viewCount'].isna()"
   ]
  },
  {
   "cell_type": "code",
   "execution_count": 55,
   "metadata": {},
   "outputs": [
    {
     "data": {
      "text/plain": [
       "id\n",
       "TQHEJj68Jew     True\n",
       "00NgUctWoLQ     True\n",
       "NaN            False\n",
       "ayXxwJJId_c     True\n",
       "cExLQ1o2pDw     True\n",
       "               ...  \n",
       "yeHjsYQ076A     True\n",
       "X7doE4h6W64     True\n",
       "AIytwdufwW8     True\n",
       "56OkH6ocYZU     True\n",
       "zi7tZ-2PhLk     True\n",
       "Name: viewCount, Length: 247, dtype: bool"
      ]
     },
     "execution_count": 55,
     "metadata": {},
     "output_type": "execute_result"
    }
   ],
   "source": [
    "# ~代表：相反\n",
    "~df['viewCount'].isna()"
   ]
  },
  {
   "cell_type": "code",
   "execution_count": 56,
   "metadata": {},
   "outputs": [
    {
     "data": {
      "text/html": [
       "<div>\n",
       "<style scoped>\n",
       "    .dataframe tbody tr th:only-of-type {\n",
       "        vertical-align: middle;\n",
       "    }\n",
       "\n",
       "    .dataframe tbody tr th {\n",
       "        vertical-align: top;\n",
       "    }\n",
       "\n",
       "    .dataframe thead th {\n",
       "        text-align: right;\n",
       "    }\n",
       "</style>\n",
       "<table border=\"1\" class=\"dataframe\">\n",
       "  <thead>\n",
       "    <tr style=\"text-align: right;\">\n",
       "      <th></th>\n",
       "      <th>title</th>\n",
       "      <th>description</th>\n",
       "      <th>publishTime</th>\n",
       "      <th>duration_seconds</th>\n",
       "      <th>viewCount</th>\n",
       "      <th>likeCount</th>\n",
       "      <th>commentCount</th>\n",
       "    </tr>\n",
       "    <tr>\n",
       "      <th>id</th>\n",
       "      <th></th>\n",
       "      <th></th>\n",
       "      <th></th>\n",
       "      <th></th>\n",
       "      <th></th>\n",
       "      <th></th>\n",
       "      <th></th>\n",
       "    </tr>\n",
       "  </thead>\n",
       "  <tbody>\n",
       "    <tr>\n",
       "      <th>NaN</th>\n",
       "      <td>MrBeast</td>\n",
       "      <td>Accomplishments - Raised $20000000 To Plant 20...</td>\n",
       "      <td>2012-02-20 00:43:50+00:00</td>\n",
       "      <td>0</td>\n",
       "      <td>NaN</td>\n",
       "      <td>NaN</td>\n",
       "      <td>NaN</td>\n",
       "    </tr>\n",
       "  </tbody>\n",
       "</table>\n",
       "</div>"
      ],
      "text/plain": [
       "       title                                        description  \\\n",
       "id                                                                \n",
       "NaN  MrBeast  Accomplishments - Raised $20000000 To Plant 20...   \n",
       "\n",
       "                   publishTime  duration_seconds  viewCount  likeCount  \\\n",
       "id                                                                       \n",
       "NaN  2012-02-20 00:43:50+00:00                 0        NaN        NaN   \n",
       "\n",
       "     commentCount  \n",
       "id                 \n",
       "NaN           NaN  "
      ]
     },
     "execution_count": 56,
     "metadata": {},
     "output_type": "execute_result"
    }
   ],
   "source": [
    "df.loc[df['viewCount'].isna()]"
   ]
  },
  {
   "cell_type": "markdown",
   "metadata": {},
   "source": [
    "### 這方法比for迴圈 ＋ get()還精簡、又快！！！ 2022.12.02"
   ]
  },
  {
   "cell_type": "code",
   "execution_count": 58,
   "metadata": {},
   "outputs": [],
   "source": [
    "df = df.loc[~df['viewCount'].isna()]"
   ]
  },
  {
   "cell_type": "markdown",
   "metadata": {},
   "source": [
    "# Casting dtype"
   ]
  },
  {
   "cell_type": "code",
   "execution_count": 59,
   "metadata": {},
   "outputs": [
    {
     "data": {
      "text/plain": [
       "title                object\n",
       "description          object\n",
       "publishTime          object\n",
       "duration_seconds      int64\n",
       "viewCount           float64\n",
       "likeCount           float64\n",
       "commentCount        float64\n",
       "dtype: object"
      ]
     },
     "execution_count": 59,
     "metadata": {},
     "output_type": "execute_result"
    }
   ],
   "source": [
    "df.dtypes"
   ]
  },
  {
   "cell_type": "markdown",
   "metadata": {},
   "source": [
    "### 改變 dtype  資料型態 float64 to int"
   ]
  },
  {
   "cell_type": "code",
   "execution_count": 62,
   "metadata": {},
   "outputs": [
    {
     "name": "stderr",
     "output_type": "stream",
     "text": [
      "/var/folders/0w/2s3zz0dj3612qzvd2nc3jk800000gn/T/ipykernel_13965/3157056590.py:1: SettingWithCopyWarning: \n",
      "A value is trying to be set on a copy of a slice from a DataFrame.\n",
      "Try using .loc[row_indexer,col_indexer] = value instead\n",
      "\n",
      "See the caveats in the documentation: https://pandas.pydata.org/pandas-docs/stable/user_guide/indexing.html#returning-a-view-versus-a-copy\n",
      "  df['viewCount'] = df['viewCount'].astype('int')\n"
     ]
    }
   ],
   "source": [
    "df['viewCount'] = df['viewCount'].astype('int')"
   ]
  },
  {
   "cell_type": "code",
   "execution_count": 63,
   "metadata": {},
   "outputs": [
    {
     "data": {
      "text/plain": [
       "title                object\n",
       "description          object\n",
       "publishTime          object\n",
       "duration_seconds      int64\n",
       "viewCount             int64\n",
       "likeCount           float64\n",
       "commentCount        float64\n",
       "dtype: object"
      ]
     },
     "execution_count": 63,
     "metadata": {},
     "output_type": "execute_result"
    }
   ],
   "source": [
    "df.dtypes"
   ]
  },
  {
   "cell_type": "code",
   "execution_count": 66,
   "metadata": {},
   "outputs": [],
   "source": [
    "df = df.loc[~df['likeCount'].isna()]"
   ]
  },
  {
   "cell_type": "code",
   "execution_count": 67,
   "metadata": {},
   "outputs": [
    {
     "name": "stderr",
     "output_type": "stream",
     "text": [
      "/var/folders/0w/2s3zz0dj3612qzvd2nc3jk800000gn/T/ipykernel_13965/4176834707.py:1: SettingWithCopyWarning: \n",
      "A value is trying to be set on a copy of a slice from a DataFrame.\n",
      "Try using .loc[row_indexer,col_indexer] = value instead\n",
      "\n",
      "See the caveats in the documentation: https://pandas.pydata.org/pandas-docs/stable/user_guide/indexing.html#returning-a-view-versus-a-copy\n",
      "  df['likeCount'] = df['likeCount'].astype('int')\n"
     ]
    }
   ],
   "source": [
    "df['likeCount'] = df['likeCount'].astype('int')"
   ]
  },
  {
   "cell_type": "code",
   "execution_count": 69,
   "metadata": {},
   "outputs": [
    {
     "data": {
      "text/plain": [
       "title                object\n",
       "description          object\n",
       "publishTime          object\n",
       "duration_seconds      int64\n",
       "viewCount             int64\n",
       "likeCount             int64\n",
       "commentCount        float64\n",
       "dtype: object"
      ]
     },
     "execution_count": 69,
     "metadata": {},
     "output_type": "execute_result"
    }
   ],
   "source": [
    "df.dtypes"
   ]
  },
  {
   "cell_type": "markdown",
   "metadata": {},
   "source": [
    "## pandas 裡有很棒的date 功能"
   ]
  },
  {
   "cell_type": "code",
   "execution_count": 70,
   "metadata": {},
   "outputs": [
    {
     "data": {
      "text/plain": [
       "id\n",
       "TQHEJj68Jew    2021-04-24 20:00:00+00:00\n",
       "00NgUctWoLQ    2021-12-18 21:00:00+00:00\n",
       "ayXxwJJId_c    2021-04-03 20:00:01+00:00\n",
       "cExLQ1o2pDw    2021-09-26 20:00:06+00:00\n",
       "GLoeAJUcz38    2020-11-14 21:00:02+00:00\n",
       "                         ...            \n",
       "yeHjsYQ076A    2015-04-26 21:26:36+00:00\n",
       "X7doE4h6W64    2015-06-21 12:22:34+00:00\n",
       "AIytwdufwW8    2015-05-29 20:07:48+00:00\n",
       "56OkH6ocYZU    2015-05-15 16:48:54+00:00\n",
       "zi7tZ-2PhLk    2015-05-31 18:31:25+00:00\n",
       "Name: publishTime, Length: 244, dtype: object"
      ]
     },
     "execution_count": 70,
     "metadata": {},
     "output_type": "execute_result"
    }
   ],
   "source": [
    "# 原始樣貌，dtype is object\n",
    "df['publishTime']"
   ]
  },
  {
   "cell_type": "code",
   "execution_count": 71,
   "metadata": {},
   "outputs": [
    {
     "data": {
      "text/plain": [
       "id\n",
       "TQHEJj68Jew   2021-04-24 20:00:00+00:00\n",
       "00NgUctWoLQ   2021-12-18 21:00:00+00:00\n",
       "ayXxwJJId_c   2021-04-03 20:00:01+00:00\n",
       "cExLQ1o2pDw   2021-09-26 20:00:06+00:00\n",
       "GLoeAJUcz38   2020-11-14 21:00:02+00:00\n",
       "                         ...           \n",
       "yeHjsYQ076A   2015-04-26 21:26:36+00:00\n",
       "X7doE4h6W64   2015-06-21 12:22:34+00:00\n",
       "AIytwdufwW8   2015-05-29 20:07:48+00:00\n",
       "56OkH6ocYZU   2015-05-15 16:48:54+00:00\n",
       "zi7tZ-2PhLk   2015-05-31 18:31:25+00:00\n",
       "Name: publishTime, Length: 244, dtype: datetime64[ns, UTC]"
      ]
     },
     "execution_count": 71,
     "metadata": {},
     "output_type": "execute_result"
    }
   ],
   "source": [
    "# 使用 to_datetime 功能: dtype 從object 改成了 datatime64\n",
    "pd.to_datetime(df['publishTime'])"
   ]
  },
  {
   "cell_type": "code",
   "execution_count": 73,
   "metadata": {},
   "outputs": [
    {
     "name": "stderr",
     "output_type": "stream",
     "text": [
      "/var/folders/0w/2s3zz0dj3612qzvd2nc3jk800000gn/T/ipykernel_13965/3398728055.py:2: SettingWithCopyWarning: \n",
      "A value is trying to be set on a copy of a slice from a DataFrame.\n",
      "Try using .loc[row_indexer,col_indexer] = value instead\n",
      "\n",
      "See the caveats in the documentation: https://pandas.pydata.org/pandas-docs/stable/user_guide/indexing.html#returning-a-view-versus-a-copy\n",
      "  df['publishTime'] = pd.to_datetime(df['publishTime'])\n"
     ]
    }
   ],
   "source": [
    "#複寫至 df\n",
    "df['publishTime'] = pd.to_datetime(df['publishTime'])"
   ]
  },
  {
   "cell_type": "code",
   "execution_count": 74,
   "metadata": {},
   "outputs": [
    {
     "data": {
      "text/plain": [
       "title                            object\n",
       "description                      object\n",
       "publishTime         datetime64[ns, UTC]\n",
       "duration_seconds                  int64\n",
       "viewCount                         int64\n",
       "likeCount                         int64\n",
       "commentCount                    float64\n",
       "dtype: object"
      ]
     },
     "execution_count": 74,
     "metadata": {},
     "output_type": "execute_result"
    }
   ],
   "source": [
    "df.dtypes"
   ]
  },
  {
   "cell_type": "markdown",
   "metadata": {},
   "source": [
    "# 如果看上去是數值，但資料格式是str，要怎麼改？"
   ]
  },
  {
   "cell_type": "code",
   "execution_count": 75,
   "metadata": {},
   "outputs": [
    {
     "data": {
      "text/plain": [
       "id\n",
       "TQHEJj68Jew    2876493\n",
       "00NgUctWoLQ    2125183\n",
       "ayXxwJJId_c    3110824\n",
       "cExLQ1o2pDw    2359606\n",
       "GLoeAJUcz38    2762425\n",
       "                ...   \n",
       "yeHjsYQ076A        574\n",
       "X7doE4h6W64        637\n",
       "AIytwdufwW8        508\n",
       "56OkH6ocYZU        430\n",
       "zi7tZ-2PhLk        370\n",
       "Name: likeCount, Length: 244, dtype: object"
      ]
     },
     "execution_count": 75,
     "metadata": {},
     "output_type": "execute_result"
    }
   ],
   "source": [
    "# 假設 likeCount 資料格式是 str => 反直覺，不好用，該怎麼改成數值？\n",
    "df['likeCount'].astype('str')"
   ]
  },
  {
   "cell_type": "code",
   "execution_count": 78,
   "metadata": {},
   "outputs": [
    {
     "name": "stderr",
     "output_type": "stream",
     "text": [
      "/var/folders/0w/2s3zz0dj3612qzvd2nc3jk800000gn/T/ipykernel_13965/1378919574.py:2: SettingWithCopyWarning: \n",
      "A value is trying to be set on a copy of a slice from a DataFrame.\n",
      "Try using .loc[row_indexer,col_indexer] = value instead\n",
      "\n",
      "See the caveats in the documentation: https://pandas.pydata.org/pandas-docs/stable/user_guide/indexing.html#returning-a-view-versus-a-copy\n",
      "  df['likeCount'] = pd.to_numeric(df['likeCount'])\n"
     ]
    }
   ],
   "source": [
    "# 運用 to_numeric 把 str 改成 int\n",
    "df['likeCount'] = pd.to_numeric(df['likeCount'])"
   ]
  },
  {
   "cell_type": "code",
   "execution_count": 79,
   "metadata": {},
   "outputs": [
    {
     "data": {
      "text/plain": [
       "title                            object\n",
       "description                      object\n",
       "publishTime         datetime64[ns, UTC]\n",
       "duration_seconds                  int64\n",
       "viewCount                         int64\n",
       "likeCount                         int64\n",
       "commentCount                    float64\n",
       "dtype: object"
      ]
     },
     "execution_count": 79,
     "metadata": {},
     "output_type": "execute_result"
    }
   ],
   "source": [
    "df.dtypes"
   ]
  },
  {
   "cell_type": "markdown",
   "metadata": {},
   "source": [
    "# Creatiing new Column"
   ]
  },
  {
   "cell_type": "code",
   "execution_count": 83,
   "metadata": {},
   "outputs": [
    {
     "data": {
      "text/html": [
       "<div>\n",
       "<style scoped>\n",
       "    .dataframe tbody tr th:only-of-type {\n",
       "        vertical-align: middle;\n",
       "    }\n",
       "\n",
       "    .dataframe tbody tr th {\n",
       "        vertical-align: top;\n",
       "    }\n",
       "\n",
       "    .dataframe thead th {\n",
       "        text-align: right;\n",
       "    }\n",
       "</style>\n",
       "<table border=\"1\" class=\"dataframe\">\n",
       "  <thead>\n",
       "    <tr style=\"text-align: right;\">\n",
       "      <th></th>\n",
       "      <th>title</th>\n",
       "      <th>description</th>\n",
       "      <th>publishTime</th>\n",
       "      <th>duration_seconds</th>\n",
       "      <th>viewCount</th>\n",
       "      <th>likeCount</th>\n",
       "      <th>commentCount</th>\n",
       "    </tr>\n",
       "    <tr>\n",
       "      <th>id</th>\n",
       "      <th></th>\n",
       "      <th></th>\n",
       "      <th></th>\n",
       "      <th></th>\n",
       "      <th></th>\n",
       "      <th></th>\n",
       "      <th></th>\n",
       "    </tr>\n",
       "  </thead>\n",
       "  <tbody>\n",
       "    <tr>\n",
       "      <th>TQHEJj68Jew</th>\n",
       "      <td>I Got Hunted By A Real Bounty Hunter</td>\n",
       "      <td>Sign up for Current w/ my Creator Code \"BEAST\"...</td>\n",
       "      <td>2021-04-24 20:00:00+00:00</td>\n",
       "      <td>861</td>\n",
       "      <td>84717282</td>\n",
       "      <td>2876493</td>\n",
       "      <td>128922.0</td>\n",
       "    </tr>\n",
       "  </tbody>\n",
       "</table>\n",
       "</div>"
      ],
      "text/plain": [
       "                                            title  \\\n",
       "id                                                  \n",
       "TQHEJj68Jew  I Got Hunted By A Real Bounty Hunter   \n",
       "\n",
       "                                                   description  \\\n",
       "id                                                               \n",
       "TQHEJj68Jew  Sign up for Current w/ my Creator Code \"BEAST\"...   \n",
       "\n",
       "                          publishTime  duration_seconds  viewCount  likeCount  \\\n",
       "id                                                                              \n",
       "TQHEJj68Jew 2021-04-24 20:00:00+00:00               861   84717282    2876493   \n",
       "\n",
       "             commentCount  \n",
       "id                         \n",
       "TQHEJj68Jew      128922.0  "
      ]
     },
     "execution_count": 83,
     "metadata": {},
     "output_type": "execute_result"
    }
   ],
   "source": [
    "df.head(1)"
   ]
  },
  {
   "cell_type": "markdown",
   "metadata": {},
   "source": [
    "### 反思： 如果我想看「觀看數和按讚數」之間的關聯，並創造新的column 該怎麼做？"
   ]
  },
  {
   "cell_type": "code",
   "execution_count": 84,
   "metadata": {},
   "outputs": [
    {
     "data": {
      "text/plain": [
       "id\n",
       "TQHEJj68Jew    0.033954\n",
       "00NgUctWoLQ    0.066225\n",
       "ayXxwJJId_c    0.030575\n",
       "cExLQ1o2pDw    0.047184\n",
       "GLoeAJUcz38    0.018982\n",
       "                 ...   \n",
       "yeHjsYQ076A    0.035189\n",
       "X7doE4h6W64    0.040470\n",
       "AIytwdufwW8    0.027456\n",
       "56OkH6ocYZU    0.025862\n",
       "zi7tZ-2PhLk    0.019709\n",
       "Length: 244, dtype: float64"
      ]
     },
     "execution_count": 84,
     "metadata": {},
     "output_type": "execute_result"
    }
   ],
   "source": [
    "df['likeCount'] / df['viewCount']"
   ]
  },
  {
   "cell_type": "code",
   "execution_count": 87,
   "metadata": {},
   "outputs": [
    {
     "name": "stderr",
     "output_type": "stream",
     "text": [
      "/var/folders/0w/2s3zz0dj3612qzvd2nc3jk800000gn/T/ipykernel_13965/804106324.py:2: SettingWithCopyWarning: \n",
      "A value is trying to be set on a copy of a slice from a DataFrame.\n",
      "Try using .loc[row_indexer,col_indexer] = value instead\n",
      "\n",
      "See the caveats in the documentation: https://pandas.pydata.org/pandas-docs/stable/user_guide/indexing.html#returning-a-view-versus-a-copy\n",
      "  df['like_to_view_ratio'] = df['likeCount'] / df['viewCount']\n"
     ]
    }
   ],
   "source": [
    "# 複寫至df\n",
    "df['like_to_view_ratio'] = df['likeCount'] / df['viewCount']"
   ]
  },
  {
   "cell_type": "code",
   "execution_count": 88,
   "metadata": {},
   "outputs": [
    {
     "data": {
      "text/html": [
       "<div>\n",
       "<style scoped>\n",
       "    .dataframe tbody tr th:only-of-type {\n",
       "        vertical-align: middle;\n",
       "    }\n",
       "\n",
       "    .dataframe tbody tr th {\n",
       "        vertical-align: top;\n",
       "    }\n",
       "\n",
       "    .dataframe thead th {\n",
       "        text-align: right;\n",
       "    }\n",
       "</style>\n",
       "<table border=\"1\" class=\"dataframe\">\n",
       "  <thead>\n",
       "    <tr style=\"text-align: right;\">\n",
       "      <th></th>\n",
       "      <th>title</th>\n",
       "      <th>description</th>\n",
       "      <th>publishTime</th>\n",
       "      <th>duration_seconds</th>\n",
       "      <th>viewCount</th>\n",
       "      <th>likeCount</th>\n",
       "      <th>commentCount</th>\n",
       "      <th>like_to_view_ratio</th>\n",
       "    </tr>\n",
       "    <tr>\n",
       "      <th>id</th>\n",
       "      <th></th>\n",
       "      <th></th>\n",
       "      <th></th>\n",
       "      <th></th>\n",
       "      <th></th>\n",
       "      <th></th>\n",
       "      <th></th>\n",
       "      <th></th>\n",
       "    </tr>\n",
       "  </thead>\n",
       "  <tbody>\n",
       "    <tr>\n",
       "      <th>TQHEJj68Jew</th>\n",
       "      <td>I Got Hunted By A Real Bounty Hunter</td>\n",
       "      <td>Sign up for Current w/ my Creator Code \"BEAST\"...</td>\n",
       "      <td>2021-04-24 20:00:00+00:00</td>\n",
       "      <td>861</td>\n",
       "      <td>84717282</td>\n",
       "      <td>2876493</td>\n",
       "      <td>128922.0</td>\n",
       "      <td>0.033954</td>\n",
       "    </tr>\n",
       "    <tr>\n",
       "      <th>00NgUctWoLQ</th>\n",
       "      <td>Extreme $1,000,000 Hide And Seek</td>\n",
       "      <td>I didn't expect that to happen at the end I wa...</td>\n",
       "      <td>2021-12-18 21:00:00+00:00</td>\n",
       "      <td>729</td>\n",
       "      <td>32090178</td>\n",
       "      <td>2125183</td>\n",
       "      <td>73593.0</td>\n",
       "      <td>0.066225</td>\n",
       "    </tr>\n",
       "    <tr>\n",
       "      <th>ayXxwJJId_c</th>\n",
       "      <td>I Bought The World&amp;#39;s Largest Mystery Box! ...</td>\n",
       "      <td>I cant believe I spent over $500000 on mystery...</td>\n",
       "      <td>2021-04-03 20:00:01+00:00</td>\n",
       "      <td>709</td>\n",
       "      <td>101745632</td>\n",
       "      <td>3110824</td>\n",
       "      <td>162796.0</td>\n",
       "      <td>0.030575</td>\n",
       "    </tr>\n",
       "  </tbody>\n",
       "</table>\n",
       "</div>"
      ],
      "text/plain": [
       "                                                         title  \\\n",
       "id                                                               \n",
       "TQHEJj68Jew               I Got Hunted By A Real Bounty Hunter   \n",
       "00NgUctWoLQ                   Extreme $1,000,000 Hide And Seek   \n",
       "ayXxwJJId_c  I Bought The World&#39;s Largest Mystery Box! ...   \n",
       "\n",
       "                                                   description  \\\n",
       "id                                                               \n",
       "TQHEJj68Jew  Sign up for Current w/ my Creator Code \"BEAST\"...   \n",
       "00NgUctWoLQ  I didn't expect that to happen at the end I wa...   \n",
       "ayXxwJJId_c  I cant believe I spent over $500000 on mystery...   \n",
       "\n",
       "                          publishTime  duration_seconds  viewCount  likeCount  \\\n",
       "id                                                                              \n",
       "TQHEJj68Jew 2021-04-24 20:00:00+00:00               861   84717282    2876493   \n",
       "00NgUctWoLQ 2021-12-18 21:00:00+00:00               729   32090178    2125183   \n",
       "ayXxwJJId_c 2021-04-03 20:00:01+00:00               709  101745632    3110824   \n",
       "\n",
       "             commentCount  like_to_view_ratio  \n",
       "id                                             \n",
       "TQHEJj68Jew      128922.0            0.033954  \n",
       "00NgUctWoLQ       73593.0            0.066225  \n",
       "ayXxwJJId_c      162796.0            0.030575  "
      ]
     },
     "execution_count": 88,
     "metadata": {},
     "output_type": "execute_result"
    }
   ],
   "source": [
    "df.head(3)"
   ]
  },
  {
   "cell_type": "markdown",
   "metadata": {},
   "source": [
    "# Adding new Row"
   ]
  },
  {
   "cell_type": "code",
   "execution_count": 89,
   "metadata": {},
   "outputs": [
    {
     "data": {
      "text/html": [
       "<div>\n",
       "<style scoped>\n",
       "    .dataframe tbody tr th:only-of-type {\n",
       "        vertical-align: middle;\n",
       "    }\n",
       "\n",
       "    .dataframe tbody tr th {\n",
       "        vertical-align: top;\n",
       "    }\n",
       "\n",
       "    .dataframe thead th {\n",
       "        text-align: right;\n",
       "    }\n",
       "</style>\n",
       "<table border=\"1\" class=\"dataframe\">\n",
       "  <thead>\n",
       "    <tr style=\"text-align: right;\">\n",
       "      <th></th>\n",
       "      <th>title</th>\n",
       "      <th>description</th>\n",
       "      <th>publishTime</th>\n",
       "      <th>duration_seconds</th>\n",
       "      <th>viewCount</th>\n",
       "      <th>likeCount</th>\n",
       "      <th>commentCount</th>\n",
       "      <th>like_to_view_ratio</th>\n",
       "    </tr>\n",
       "    <tr>\n",
       "      <th>id</th>\n",
       "      <th></th>\n",
       "      <th></th>\n",
       "      <th></th>\n",
       "      <th></th>\n",
       "      <th></th>\n",
       "      <th></th>\n",
       "      <th></th>\n",
       "      <th></th>\n",
       "    </tr>\n",
       "  </thead>\n",
       "  <tbody>\n",
       "    <tr>\n",
       "      <th>zi7tZ-2PhLk</th>\n",
       "      <td>How Much Money Do You Make As An Uber Driver??...</td>\n",
       "      <td>In this video I talk about being an uber drive...</td>\n",
       "      <td>2015-05-31 18:31:25+00:00</td>\n",
       "      <td>304</td>\n",
       "      <td>18773</td>\n",
       "      <td>370</td>\n",
       "      <td>59.0</td>\n",
       "      <td>0.019709</td>\n",
       "    </tr>\n",
       "  </tbody>\n",
       "</table>\n",
       "</div>"
      ],
      "text/plain": [
       "                                                         title  \\\n",
       "id                                                               \n",
       "zi7tZ-2PhLk  How Much Money Do You Make As An Uber Driver??...   \n",
       "\n",
       "                                                   description  \\\n",
       "id                                                               \n",
       "zi7tZ-2PhLk  In this video I talk about being an uber drive...   \n",
       "\n",
       "                          publishTime  duration_seconds  viewCount  likeCount  \\\n",
       "id                                                                              \n",
       "zi7tZ-2PhLk 2015-05-31 18:31:25+00:00               304      18773        370   \n",
       "\n",
       "             commentCount  like_to_view_ratio  \n",
       "id                                             \n",
       "zi7tZ-2PhLk          59.0            0.019709  "
      ]
     },
     "execution_count": 89,
     "metadata": {},
     "output_type": "execute_result"
    }
   ],
   "source": [
    "# 把最後一筆資料複製一遍，重新加入資料庫\n",
    "df.tail(1)"
   ]
  },
  {
   "cell_type": "code",
   "execution_count": 90,
   "metadata": {},
   "outputs": [],
   "source": [
    "df_to_append = df.tail(1)"
   ]
  },
  {
   "cell_type": "code",
   "execution_count": 91,
   "metadata": {},
   "outputs": [
    {
     "data": {
      "text/html": [
       "<div>\n",
       "<style scoped>\n",
       "    .dataframe tbody tr th:only-of-type {\n",
       "        vertical-align: middle;\n",
       "    }\n",
       "\n",
       "    .dataframe tbody tr th {\n",
       "        vertical-align: top;\n",
       "    }\n",
       "\n",
       "    .dataframe thead th {\n",
       "        text-align: right;\n",
       "    }\n",
       "</style>\n",
       "<table border=\"1\" class=\"dataframe\">\n",
       "  <thead>\n",
       "    <tr style=\"text-align: right;\">\n",
       "      <th></th>\n",
       "      <th>title</th>\n",
       "      <th>description</th>\n",
       "      <th>publishTime</th>\n",
       "      <th>duration_seconds</th>\n",
       "      <th>viewCount</th>\n",
       "      <th>likeCount</th>\n",
       "      <th>commentCount</th>\n",
       "      <th>like_to_view_ratio</th>\n",
       "    </tr>\n",
       "    <tr>\n",
       "      <th>id</th>\n",
       "      <th></th>\n",
       "      <th></th>\n",
       "      <th></th>\n",
       "      <th></th>\n",
       "      <th></th>\n",
       "      <th></th>\n",
       "      <th></th>\n",
       "      <th></th>\n",
       "    </tr>\n",
       "  </thead>\n",
       "  <tbody>\n",
       "    <tr>\n",
       "      <th>TQHEJj68Jew</th>\n",
       "      <td>I Got Hunted By A Real Bounty Hunter</td>\n",
       "      <td>Sign up for Current w/ my Creator Code \"BEAST\"...</td>\n",
       "      <td>2021-04-24 20:00:00+00:00</td>\n",
       "      <td>861</td>\n",
       "      <td>84717282</td>\n",
       "      <td>2876493</td>\n",
       "      <td>128922.0</td>\n",
       "      <td>0.033954</td>\n",
       "    </tr>\n",
       "    <tr>\n",
       "      <th>00NgUctWoLQ</th>\n",
       "      <td>Extreme $1,000,000 Hide And Seek</td>\n",
       "      <td>I didn't expect that to happen at the end I wa...</td>\n",
       "      <td>2021-12-18 21:00:00+00:00</td>\n",
       "      <td>729</td>\n",
       "      <td>32090178</td>\n",
       "      <td>2125183</td>\n",
       "      <td>73593.0</td>\n",
       "      <td>0.066225</td>\n",
       "    </tr>\n",
       "    <tr>\n",
       "      <th>ayXxwJJId_c</th>\n",
       "      <td>I Bought The World&amp;#39;s Largest Mystery Box! ...</td>\n",
       "      <td>I cant believe I spent over $500000 on mystery...</td>\n",
       "      <td>2021-04-03 20:00:01+00:00</td>\n",
       "      <td>709</td>\n",
       "      <td>101745632</td>\n",
       "      <td>3110824</td>\n",
       "      <td>162796.0</td>\n",
       "      <td>0.030575</td>\n",
       "    </tr>\n",
       "    <tr>\n",
       "      <th>cExLQ1o2pDw</th>\n",
       "      <td>First To Rob Bank Wins $100,000</td>\n",
       "      <td>I didnt think he would actually rob the bank.....</td>\n",
       "      <td>2021-09-26 20:00:06+00:00</td>\n",
       "      <td>482</td>\n",
       "      <td>50008942</td>\n",
       "      <td>2359606</td>\n",
       "      <td>120621.0</td>\n",
       "      <td>0.047184</td>\n",
       "    </tr>\n",
       "    <tr>\n",
       "      <th>GLoeAJUcz38</th>\n",
       "      <td>Press This Button To Win $100,000!</td>\n",
       "      <td>Push the red subscribe button and you could al...</td>\n",
       "      <td>2020-11-14 21:00:02+00:00</td>\n",
       "      <td>911</td>\n",
       "      <td>145527042</td>\n",
       "      <td>2762425</td>\n",
       "      <td>83853.0</td>\n",
       "      <td>0.018982</td>\n",
       "    </tr>\n",
       "    <tr>\n",
       "      <th>...</th>\n",
       "      <td>...</td>\n",
       "      <td>...</td>\n",
       "      <td>...</td>\n",
       "      <td>...</td>\n",
       "      <td>...</td>\n",
       "      <td>...</td>\n",
       "      <td>...</td>\n",
       "      <td>...</td>\n",
       "    </tr>\n",
       "    <tr>\n",
       "      <th>X7doE4h6W64</th>\n",
       "      <td>Insane Gun Sync - 7 Hours To Make</td>\n",
       "      <td>Look at this - http://gyazo.com/8852509d2350db...</td>\n",
       "      <td>2015-06-21 12:22:34+00:00</td>\n",
       "      <td>134</td>\n",
       "      <td>15740</td>\n",
       "      <td>637</td>\n",
       "      <td>105.0</td>\n",
       "      <td>0.040470</td>\n",
       "    </tr>\n",
       "    <tr>\n",
       "      <th>AIytwdufwW8</th>\n",
       "      <td>MY MESSAGE TO COD YOUTUBERS (Watch till end plz)</td>\n",
       "      <td>The beginning of the video is a little off top...</td>\n",
       "      <td>2015-05-29 20:07:48+00:00</td>\n",
       "      <td>292</td>\n",
       "      <td>18502</td>\n",
       "      <td>508</td>\n",
       "      <td>117.0</td>\n",
       "      <td>0.027456</td>\n",
       "    </tr>\n",
       "    <tr>\n",
       "      <th>56OkH6ocYZU</th>\n",
       "      <td>L0114R - Biblical Creeper Post for Post @L0114R</td>\n",
       "      <td>His channel - https://www.youtube.com/user/the...</td>\n",
       "      <td>2015-05-15 16:48:54+00:00</td>\n",
       "      <td>109</td>\n",
       "      <td>16627</td>\n",
       "      <td>430</td>\n",
       "      <td>134.0</td>\n",
       "      <td>0.025862</td>\n",
       "    </tr>\n",
       "    <tr>\n",
       "      <th>zi7tZ-2PhLk</th>\n",
       "      <td>How Much Money Do You Make As An Uber Driver??...</td>\n",
       "      <td>In this video I talk about being an uber drive...</td>\n",
       "      <td>2015-05-31 18:31:25+00:00</td>\n",
       "      <td>304</td>\n",
       "      <td>18773</td>\n",
       "      <td>370</td>\n",
       "      <td>59.0</td>\n",
       "      <td>0.019709</td>\n",
       "    </tr>\n",
       "    <tr>\n",
       "      <th>zi7tZ-2PhLk</th>\n",
       "      <td>How Much Money Do You Make As An Uber Driver??...</td>\n",
       "      <td>In this video I talk about being an uber drive...</td>\n",
       "      <td>2015-05-31 18:31:25+00:00</td>\n",
       "      <td>304</td>\n",
       "      <td>18773</td>\n",
       "      <td>370</td>\n",
       "      <td>59.0</td>\n",
       "      <td>0.019709</td>\n",
       "    </tr>\n",
       "  </tbody>\n",
       "</table>\n",
       "<p>245 rows × 8 columns</p>\n",
       "</div>"
      ],
      "text/plain": [
       "                                                         title  \\\n",
       "id                                                               \n",
       "TQHEJj68Jew               I Got Hunted By A Real Bounty Hunter   \n",
       "00NgUctWoLQ                   Extreme $1,000,000 Hide And Seek   \n",
       "ayXxwJJId_c  I Bought The World&#39;s Largest Mystery Box! ...   \n",
       "cExLQ1o2pDw                    First To Rob Bank Wins $100,000   \n",
       "GLoeAJUcz38                 Press This Button To Win $100,000!   \n",
       "...                                                        ...   \n",
       "X7doE4h6W64                  Insane Gun Sync - 7 Hours To Make   \n",
       "AIytwdufwW8   MY MESSAGE TO COD YOUTUBERS (Watch till end plz)   \n",
       "56OkH6ocYZU    L0114R - Biblical Creeper Post for Post @L0114R   \n",
       "zi7tZ-2PhLk  How Much Money Do You Make As An Uber Driver??...   \n",
       "zi7tZ-2PhLk  How Much Money Do You Make As An Uber Driver??...   \n",
       "\n",
       "                                                   description  \\\n",
       "id                                                               \n",
       "TQHEJj68Jew  Sign up for Current w/ my Creator Code \"BEAST\"...   \n",
       "00NgUctWoLQ  I didn't expect that to happen at the end I wa...   \n",
       "ayXxwJJId_c  I cant believe I spent over $500000 on mystery...   \n",
       "cExLQ1o2pDw  I didnt think he would actually rob the bank.....   \n",
       "GLoeAJUcz38  Push the red subscribe button and you could al...   \n",
       "...                                                        ...   \n",
       "X7doE4h6W64  Look at this - http://gyazo.com/8852509d2350db...   \n",
       "AIytwdufwW8  The beginning of the video is a little off top...   \n",
       "56OkH6ocYZU  His channel - https://www.youtube.com/user/the...   \n",
       "zi7tZ-2PhLk  In this video I talk about being an uber drive...   \n",
       "zi7tZ-2PhLk  In this video I talk about being an uber drive...   \n",
       "\n",
       "                          publishTime  duration_seconds  viewCount  likeCount  \\\n",
       "id                                                                              \n",
       "TQHEJj68Jew 2021-04-24 20:00:00+00:00               861   84717282    2876493   \n",
       "00NgUctWoLQ 2021-12-18 21:00:00+00:00               729   32090178    2125183   \n",
       "ayXxwJJId_c 2021-04-03 20:00:01+00:00               709  101745632    3110824   \n",
       "cExLQ1o2pDw 2021-09-26 20:00:06+00:00               482   50008942    2359606   \n",
       "GLoeAJUcz38 2020-11-14 21:00:02+00:00               911  145527042    2762425   \n",
       "...                               ...               ...        ...        ...   \n",
       "X7doE4h6W64 2015-06-21 12:22:34+00:00               134      15740        637   \n",
       "AIytwdufwW8 2015-05-29 20:07:48+00:00               292      18502        508   \n",
       "56OkH6ocYZU 2015-05-15 16:48:54+00:00               109      16627        430   \n",
       "zi7tZ-2PhLk 2015-05-31 18:31:25+00:00               304      18773        370   \n",
       "zi7tZ-2PhLk 2015-05-31 18:31:25+00:00               304      18773        370   \n",
       "\n",
       "             commentCount  like_to_view_ratio  \n",
       "id                                             \n",
       "TQHEJj68Jew      128922.0            0.033954  \n",
       "00NgUctWoLQ       73593.0            0.066225  \n",
       "ayXxwJJId_c      162796.0            0.030575  \n",
       "cExLQ1o2pDw      120621.0            0.047184  \n",
       "GLoeAJUcz38       83853.0            0.018982  \n",
       "...                   ...                 ...  \n",
       "X7doE4h6W64         105.0            0.040470  \n",
       "AIytwdufwW8         117.0            0.027456  \n",
       "56OkH6ocYZU         134.0            0.025862  \n",
       "zi7tZ-2PhLk          59.0            0.019709  \n",
       "zi7tZ-2PhLk          59.0            0.019709  \n",
       "\n",
       "[245 rows x 8 columns]"
      ]
     },
     "execution_count": 91,
     "metadata": {},
     "output_type": "execute_result"
    }
   ],
   "source": [
    "# 運用 concat() 把資料結合起來\n",
    "pd.concat([df, df_to_append])"
   ]
  },
  {
   "cell_type": "markdown",
   "metadata": {},
   "source": [
    "# Plot Examples"
   ]
  },
  {
   "cell_type": "code",
   "execution_count": 99,
   "metadata": {},
   "outputs": [
    {
     "data": {
      "text/plain": [
       "<AxesSubplot:title={'center':'Distribution of View Count'}, ylabel='Frequency'>"
      ]
     },
     "execution_count": 99,
     "metadata": {},
     "output_type": "execute_result"
    },
    {
     "data": {
      "image/png": "[encoded data removed]",
      "text/plain": [
       "<Figure size 1500x500 with 1 Axes>"
      ]
     },
     "metadata": {},
     "output_type": "display_data"
    }
   ],
   "source": [
    "df['viewCount'].plot(kind='hist', bins=50,\n",
    "                     title='Distribution of View Count',\n",
    "                     figsize=(15, 5))"
   ]
  },
  {
   "cell_type": "code",
   "execution_count": 102,
   "metadata": {},
   "outputs": [
    {
     "data": {
      "text/plain": [
       "<AxesSubplot:title={'center':'View vs Like Count'}, xlabel='viewCount', ylabel='likeCount'>"
      ]
     },
     "execution_count": 102,
     "metadata": {},
     "output_type": "execute_result"
    },
    {
     "data": {
      "image/png": "[encoded data removed]",
      "text/plain": [
       "<Figure size 640x480 with 1 Axes>"
      ]
     },
     "metadata": {},
     "output_type": "display_data"
    }
   ],
   "source": [
    "df.plot(kind='scatter', x = 'viewCount', y ='likeCount', title='View vs Like Count')"
   ]
  },
  {
   "cell_type": "code",
   "execution_count": 103,
   "metadata": {},
   "outputs": [
    {
     "data": {
      "text/html": [
       "<div>\n",
       "<style scoped>\n",
       "    .dataframe tbody tr th:only-of-type {\n",
       "        vertical-align: middle;\n",
       "    }\n",
       "\n",
       "    .dataframe tbody tr th {\n",
       "        vertical-align: top;\n",
       "    }\n",
       "\n",
       "    .dataframe thead th {\n",
       "        text-align: right;\n",
       "    }\n",
       "</style>\n",
       "<table border=\"1\" class=\"dataframe\">\n",
       "  <thead>\n",
       "    <tr style=\"text-align: right;\">\n",
       "      <th></th>\n",
       "      <th>title</th>\n",
       "      <th>description</th>\n",
       "      <th>publishTime</th>\n",
       "      <th>duration_seconds</th>\n",
       "      <th>viewCount</th>\n",
       "      <th>likeCount</th>\n",
       "      <th>commentCount</th>\n",
       "      <th>like_to_view_ratio</th>\n",
       "    </tr>\n",
       "    <tr>\n",
       "      <th>id</th>\n",
       "      <th></th>\n",
       "      <th></th>\n",
       "      <th></th>\n",
       "      <th></th>\n",
       "      <th></th>\n",
       "      <th></th>\n",
       "      <th></th>\n",
       "      <th></th>\n",
       "    </tr>\n",
       "  </thead>\n",
       "  <tbody>\n",
       "    <tr>\n",
       "      <th>dBxOYE2j55U</th>\n",
       "      <td>Make This Video The Most Liked Video On Youtube</td>\n",
       "      <td>WHAT IS UP LOGANG, MAKE SURE YOU LIKE THE VIDE...</td>\n",
       "      <td>2019-01-16 22:05:01+00:00</td>\n",
       "      <td>791</td>\n",
       "      <td>96523287</td>\n",
       "      <td>19049431</td>\n",
       "      <td>277088.0</td>\n",
       "      <td>0.197356</td>\n",
       "    </tr>\n",
       "  </tbody>\n",
       "</table>\n",
       "</div>"
      ],
      "text/plain": [
       "                                                       title  \\\n",
       "id                                                             \n",
       "dBxOYE2j55U  Make This Video The Most Liked Video On Youtube   \n",
       "\n",
       "                                                   description  \\\n",
       "id                                                               \n",
       "dBxOYE2j55U  WHAT IS UP LOGANG, MAKE SURE YOU LIKE THE VIDE...   \n",
       "\n",
       "                          publishTime  duration_seconds  viewCount  likeCount  \\\n",
       "id                                                                              \n",
       "dBxOYE2j55U 2019-01-16 22:05:01+00:00               791   96523287   19049431   \n",
       "\n",
       "             commentCount  like_to_view_ratio  \n",
       "id                                             \n",
       "dBxOYE2j55U      277088.0            0.197356  "
      ]
     },
     "execution_count": 103,
     "metadata": {},
     "output_type": "execute_result"
    }
   ],
   "source": [
    "df.query('likeCount > 17500000')"
   ]
  },
  {
   "cell_type": "code",
   "execution_count": 104,
   "metadata": {},
   "outputs": [
    {
     "data": {
      "text/plain": [
       "title                   Make This Video The Most Liked Video On Youtube\n",
       "description           WHAT IS UP LOGANG, MAKE SURE YOU LIKE THE VIDE...\n",
       "publishTime                                   2019-01-16 22:05:01+00:00\n",
       "duration_seconds                                                    791\n",
       "viewCount                                                      96523287\n",
       "likeCount                                                      19049431\n",
       "commentCount                                                   277088.0\n",
       "like_to_view_ratio                                             0.197356\n",
       "Name: dBxOYE2j55U, dtype: object"
      ]
     },
     "execution_count": 104,
     "metadata": {},
     "output_type": "execute_result"
    }
   ],
   "source": [
    "df.loc['dBxOYE2j55U']"
   ]
  },
  {
   "cell_type": "markdown",
   "metadata": {},
   "source": [
    "# Save our Output"
   ]
  },
  {
   "cell_type": "code",
   "execution_count": 105,
   "metadata": {},
   "outputs": [],
   "source": [
    "# 運用 to_csv 存成資料表，一開始我們用 read_csv\n",
    "df.to_csv('process_data.csv')"
   ]
  },
  {
   "cell_type": "markdown",
   "metadata": {},
   "source": [
    "## The End"
   ]
  }
 ],
 "metadata": {
  "kernelspec": {
   "display_name": "Python 3.8.10 ('.venv': venv)",
   "language": "python",
   "name": "python3"
  },
  "language_info": {
   "codemirror_mode": {
    "name": "ipython",
    "version": 3
   },
   "file_extension": ".py",
   "mimetype": "text/x-python",
   "name": "python",
   "nbconvert_exporter": "python",
   "pygments_lexer": "ipython3",
   "version": "3.8.10"
  },
  "orig_nbformat": 4,
  "vscode": {
   "interpreter": {
    "hash": "6a4260b53b7b3c701b4e81f22f498fa0ce6cf593a653e1b805023a08e99e666a"
   }
  }
 },
 "nbformat": 4,
 "nbformat_minor": 2
}
